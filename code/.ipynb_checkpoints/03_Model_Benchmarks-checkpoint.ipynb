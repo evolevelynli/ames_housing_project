{
 "cells": [
  {
   "cell_type": "markdown",
   "metadata": {},
   "source": [
    "# Ames Housing Project"
   ]
  },
  {
   "cell_type": "markdown",
   "metadata": {},
   "source": [
    "## Project Challenge Statement\n",
    "\n",
    "#### Goal: Predict the price of homes at sale for the Aimes Iowa Housing dataset. \n",
    "\n",
    "Two files used to build the model. \n",
    "\n",
    "- train_data_cleanna.csv -- this data contains all of the training data with no missing values and outliers\n",
    "- test_data_cleanna.csv -- this data contains all of the testing data with no missing values and outliers\n",
    "\n",
    "#### Prediction Files \n",
    "- LR_first_submit.csv -- this file will be the baseline submisstion of Linear Regression Model\n",
    "- lasso_first_submit.csv -- this file will be the first submission using Lasso CV\n",
    "- ridge_first_submit.csv -- this file will be the first submission using Ridge CV\n",
    "- esn_first_submit.csv -- this file will be the first submission using ElasticNet CV\n"
   ]
  },
  {
   "cell_type": "markdown",
   "metadata": {},
   "source": [
    "## Table of Contents \n",
    "\n",
    "This Notebook is broken down into different sections for analysis purpose. The following links are connected to differenct section within the Notebook for simple navigation. \n",
    "\n",
    "### Contents:\n",
    "- [Linear Regression Model](#Linear-Regression-Model)\n",
    "- [Lasso Model](#Lasso-Model)\n",
    "- [Ridge Model](#Ridge-Model)\n",
    "- [ElasticNet Model](#ElasticNet-Model)"
   ]
  },
  {
   "cell_type": "code",
   "execution_count": 297,
   "metadata": {},
   "outputs": [],
   "source": [
    "#Eliminate warnings \n",
    "import sys\n",
    "import warnings\n",
    "\n",
    "if not sys.warnoptions:\n",
    "    warnings.simplefilter(\"ignore\")"
   ]
  },
  {
   "cell_type": "code",
   "execution_count": 298,
   "metadata": {},
   "outputs": [],
   "source": [
    "# Library imports\n",
    "from sklearn.pipeline import Pipeline\n",
    "from sklearn.linear_model import LassoCV, RidgeCV, ElasticNetCV, LinearRegression\n",
    "from sklearn.preprocessing import StandardScaler, PolynomialFeatures, PowerTransformer\n",
    "from sklearn.model_selection import train_test_split, GridSearchCV\n",
    "from sklearn.feature_selection import SelectKBest, VarianceThreshold, f_regression, RFECV\n",
    "from sklearn.metrics import mean_squared_error\n",
    "import statsmodels.api as sm\n",
    "import numpy as np\n",
    "import pandas as pd\n",
    "import matplotlib.pyplot as plt\n",
    "from sklearn.metrics import r2_score\n",
    "\n",
    "\n",
    "np.random.seed(42)\n",
    "%matplotlib inline"
   ]
  },
  {
   "cell_type": "code",
   "execution_count": 299,
   "metadata": {},
   "outputs": [],
   "source": [
    "from functions import *"
   ]
  },
  {
   "cell_type": "code",
   "execution_count": 300,
   "metadata": {},
   "outputs": [],
   "source": [
    "#import Data \n",
    "train = pd.read_csv('../datasets/train.csv')\n",
    "\n",
    "clean_train_data = pd.read_csv('../datasets/train_data_clean.csv')\n",
    "clean_test_data = pd.read_csv('../datasets/test_data_clean.csv')\n",
    "\n",
    "base_train_data = pd.read_csv('../datasets/train_data_cleanna.csv')\n",
    "base_test_data = pd.read_csv('../datasets/test_data_cleanna.csv')\n"
   ]
  },
  {
   "cell_type": "code",
   "execution_count": 301,
   "metadata": {},
   "outputs": [],
   "source": [
    "#Extract common values in X_train and X_test values\n",
    "p_cols = ['Lot Frontage', 'Lot Area', 'Overall Qual', 'Overall Cond',\n",
    "       'Year Built', 'Mas Vnr Area', 'BsmtFin SF 1', 'Total Bsmt SF',\n",
    "       '1st Flr SF', '2nd Flr SF', 'Bedroom AbvGr', 'Kitchen AbvGr',\n",
    "       'Garage Area', 'Wood Deck SF', 'Screen Porch', 'Neighborhood_Edwards',\n",
    "       'Neighborhood_Gilbert', 'Neighborhood_NAmes',\n",
    "       'Neighborhood_NWAmes', 'Neighborhood_NoRidge', 'Neighborhood_NridgHt',\n",
    "       'Neighborhood_OldTown', 'Neighborhood_SWISU', 'Neighborhood_Sawyer',\n",
    "       'Neighborhood_StoneBr', 'Exterior 1st_BrkFace',\n",
    "       'Garage Cond_Ex']\n",
    "X_dummy = ext_cat_features(base_train_data)"
   ]
  },
  {
   "cell_type": "markdown",
   "metadata": {},
   "source": [
    "## Linear Regression Model \n",
    "build a linear regression model as the baseline model for reference"
   ]
  },
  {
   "cell_type": "markdown",
   "metadata": {},
   "source": [
    "### Fit Linear Regression Model For Prediction with Selected Columns"
   ]
  },
  {
   "cell_type": "code",
   "execution_count": 302,
   "metadata": {},
   "outputs": [],
   "source": [
    "X = pd.get_dummies(base_train_data, columns = X_dummy).drop(columns = ['Unnamed: 0', 'Id','PID', 'SalePrice'])\n",
    "y = base_train_data['SalePrice']\n",
    "X_train, X_test, y_train, y_test = train_test_split(X, y, random_state = 42)"
   ]
  },
  {
   "cell_type": "code",
   "execution_count": 303,
   "metadata": {},
   "outputs": [
    {
     "data": {
      "text/plain": [
       "LinearRegression(copy_X=True, fit_intercept=True, n_jobs=None,\n",
       "         normalize=False)"
      ]
     },
     "execution_count": 303,
     "metadata": {},
     "output_type": "execute_result"
    }
   ],
   "source": [
    "lr = LinearRegression()\n",
    "lr.fit(X_train[p_cols], y_train)"
   ]
  },
  {
   "cell_type": "code",
   "execution_count": 304,
   "metadata": {},
   "outputs": [
    {
     "name": "stdout",
     "output_type": "stream",
     "text": [
      "train 0.8847947975136864\n",
      "test 0.897719937191588\n"
     ]
    }
   ],
   "source": [
    "print('train', lr.score(X_train[p_cols], y_train))\n",
    "print('test', lr.score(X_test[p_cols], y_test))"
   ]
  },
  {
   "cell_type": "code",
   "execution_count": 305,
   "metadata": {},
   "outputs": [],
   "source": [
    "#Manipulate Test data frame for prediction\n",
    "X_predict = pd.get_dummies(base_test_data, columns = X_dummy).drop(columns = ['Unnamed: 0', 'Id','PID'])"
   ]
  },
  {
   "cell_type": "code",
   "execution_count": 306,
   "metadata": {},
   "outputs": [
    {
     "data": {
      "text/plain": [
       "(879,)"
      ]
     },
     "execution_count": 306,
     "metadata": {},
     "output_type": "execute_result"
    }
   ],
   "source": [
    "lr_predict = lr.predict(X_predict[p_cols])\n",
    "lr_predict.shape"
   ]
  },
  {
   "cell_type": "code",
   "execution_count": 307,
   "metadata": {},
   "outputs": [
    {
     "data": {
      "text/plain": [
       "(879, 1)"
      ]
     },
     "execution_count": 307,
     "metadata": {},
     "output_type": "execute_result"
    }
   ],
   "source": [
    "#save df procedure\n",
    "id_df = clean_test_data[['Id']]\n",
    "LR_firstsub_test_predict = pd.DataFrame(lr_predict, columns = ['SalePrice'])\n",
    "df = id_df.join(LR_firstsub_test_predict)\n",
    "df.columns = ['Id', \"SalePrice\"]\n",
    "df = df.set_index('Id')\n",
    "df.shape"
   ]
  },
  {
   "cell_type": "code",
   "execution_count": 308,
   "metadata": {},
   "outputs": [],
   "source": [
    "df.to_csv('../datasets/LR_first_submit.csv')"
   ]
  },
  {
   "cell_type": "markdown",
   "metadata": {},
   "source": [
    "## Lasso Model"
   ]
  },
  {
   "cell_type": "markdown",
   "metadata": {},
   "source": [
    "### Polynomial Transformation with Lasso Model "
   ]
  },
  {
   "cell_type": "code",
   "execution_count": 237,
   "metadata": {},
   "outputs": [],
   "source": [
    "X = pd.get_dummies(base_train_data, columns = X_dummy).drop(columns = ['Unnamed: 0', 'Id','PID', 'SalePrice'])\n",
    "y = base_train_data['SalePrice']\n",
    "X_train, X_test, y_train, y_test = train_test_split(X, y, random_state = 42)"
   ]
  },
  {
   "cell_type": "code",
   "execution_count": 280,
   "metadata": {},
   "outputs": [],
   "source": [
    "#Lasso pipeline \n",
    "lasso = Pipeline([\n",
    "    ('poly', PolynomialFeatures(include_bias=False)),\n",
    "    ('ss', StandardScaler()),\n",
    "#     ('kbest',SelectKBest(f_regression, k = 150)),\n",
    "    ('lasso', LassoCV())\n",
    "])"
   ]
  },
  {
   "cell_type": "code",
   "execution_count": 281,
   "metadata": {
    "scrolled": true
   },
   "outputs": [
    {
     "name": "stdout",
     "output_type": "stream",
     "text": [
      "train score 0.9277912154428029\n",
      "test score 0.9305381689292688\n",
      "R2 score 0.922717879679237\n"
     ]
    }
   ],
   "source": [
    "lasso.fit(X_train[p_cols], y_train)\n",
    "lasso_predict = lasso.predict(X_test[p_cols])\n",
    "print(\"train score\", lasso.score(X_train[p_cols], y_train))\n",
    "print('test score', lasso.score(X_test[p_cols], y_test))\n",
    "print(\"R2 score\", r2_score(lasso_predict, y_test));"
   ]
  },
  {
   "cell_type": "code",
   "execution_count": 284,
   "metadata": {},
   "outputs": [],
   "source": [
    "#save df procedure\n",
    "id_df = clean_test_data[['Id']]\n",
    "\n",
    "lasso_firstsub_test_predict = lasso.predict(X_predict[p_cols])\n",
    "\n",
    "lasso_firstsub_test_predict = pd.DataFrame(lasso_firstsub_test_predict, columns = ['SalePrice'])\n",
    "\n",
    "df = id_df.join(lasso_firstsub_test_predict)\n",
    "\n",
    "df.columns = ['Id', \"SalePrice\"]\n",
    "\n",
    "df = df.set_index('Id')\n",
    "\n",
    "df.to_csv('../datasets/lasso_first_submit.csv')"
   ]
  },
  {
   "cell_type": "markdown",
   "metadata": {},
   "source": [
    "## Ridge Model"
   ]
  },
  {
   "cell_type": "markdown",
   "metadata": {},
   "source": [
    "### Polynomial Transformation with Ridge Model "
   ]
  },
  {
   "cell_type": "code",
   "execution_count": 285,
   "metadata": {},
   "outputs": [],
   "source": [
    "X = pd.get_dummies(base_train_data, columns = X_dummy).drop(columns = ['Unnamed: 0', 'Id','PID', 'SalePrice'])\n",
    "y = base_train_data['SalePrice']\n",
    "X_train, X_test, y_train, y_test = train_test_split(X, y, random_state = 42)"
   ]
  },
  {
   "cell_type": "code",
   "execution_count": 286,
   "metadata": {},
   "outputs": [],
   "source": [
    "#Lasso pipeline \n",
    "ridge = Pipeline([\n",
    "    ('poly', PolynomialFeatures(include_bias=False)),\n",
    "    ('ss', StandardScaler()),\n",
    "#     ('kbest',SelectKBest(f_regression, k = 150)),\n",
    "    ('lasso', RidgeCV())\n",
    "])"
   ]
  },
  {
   "cell_type": "code",
   "execution_count": 287,
   "metadata": {
    "scrolled": true
   },
   "outputs": [
    {
     "name": "stdout",
     "output_type": "stream",
     "text": [
      "train score 0.9471356986647035\n",
      "test score 0.8994726156836211\n",
      "R2 score 0.8923849884051176\n"
     ]
    }
   ],
   "source": [
    "ridge.fit(X_train[p_cols], y_train)\n",
    "ridge_predict = ridge.predict(X_test[p_cols])\n",
    "print(\"train score\", ridge.score(X_train[p_cols], y_train))\n",
    "print('test score', ridge.score(X_test[p_cols], y_test))\n",
    "print(\"R2 score\", r2_score(ridge_predict, y_test));"
   ]
  },
  {
   "cell_type": "code",
   "execution_count": 288,
   "metadata": {},
   "outputs": [],
   "source": [
    "#save df procedure\n",
    "id_df = clean_test_data[['Id']]\n",
    "\n",
    "ridge_firstsub_test_predict = ridge.predict(X_predict[p_cols])\n",
    "\n",
    "ridge_firstsub_test_predict = pd.DataFrame(ridge_firstsub_test_predict, columns = ['SalePrice'])\n",
    "\n",
    "df = id_df.join(ridge_firstsub_test_predict)\n",
    "\n",
    "df.columns = ['Id', \"SalePrice\"]\n",
    "\n",
    "df = df.set_index('Id')\n",
    "\n",
    "df.to_csv('../datasets/ridge_first_submit.csv')"
   ]
  },
  {
   "cell_type": "markdown",
   "metadata": {},
   "source": [
    "## ElasticNet Model"
   ]
  },
  {
   "cell_type": "markdown",
   "metadata": {},
   "source": [
    "### Polynomial Transformation with ElasticNet Model "
   ]
  },
  {
   "cell_type": "code",
   "execution_count": 292,
   "metadata": {},
   "outputs": [],
   "source": [
    "X = pd.get_dummies(base_train_data, columns = X_dummy).drop(columns = ['Unnamed: 0', 'Id','PID', 'SalePrice'])\n",
    "y = base_train_data['SalePrice']\n",
    "X_train, X_test, y_train, y_test = train_test_split(X, y, random_state = 42)"
   ]
  },
  {
   "cell_type": "code",
   "execution_count": 293,
   "metadata": {},
   "outputs": [],
   "source": [
    "#Lasso pipeline \n",
    "esn = Pipeline([\n",
    "    ('poly', PolynomialFeatures(include_bias=False)),\n",
    "    ('ss', StandardScaler()),\n",
    "#     ('kbest',SelectKBest(f_regression, k = 150)),\n",
    "    ('ESN', ElasticNetCV())\n",
    "])"
   ]
  },
  {
   "cell_type": "code",
   "execution_count": 294,
   "metadata": {
    "scrolled": true
   },
   "outputs": [
    {
     "name": "stdout",
     "output_type": "stream",
     "text": [
      "train score 0.5266116564754999\n",
      "test score 0.5368130253976637\n",
      "R2 score -2.4611002380747906\n"
     ]
    }
   ],
   "source": [
    "esn.fit(X_train[p_cols], y_train)\n",
    "esn_predict = esn.predict(X_test[p_cols])\n",
    "print(\"train score\", esn.score(X_train[p_cols], y_train))\n",
    "print('test score', esn.score(X_test[p_cols], y_test))\n",
    "print(\"R2 score\", r2_score(esn_predict, y_test));"
   ]
  },
  {
   "cell_type": "code",
   "execution_count": 296,
   "metadata": {},
   "outputs": [],
   "source": [
    "#save df procedure\n",
    "id_df = clean_test_data[['Id']]\n",
    "\n",
    "esn_firstsub_test_predict = esn.predict(X_predict[p_cols])\n",
    "\n",
    "esn_firstsub_test_predict = pd.DataFrame(esn_firstsub_test_predict, columns = ['SalePrice'])\n",
    "\n",
    "df = id_df.join(esn_firstsub_test_predict)\n",
    "\n",
    "df.columns = ['Id', \"SalePrice\"]\n",
    "\n",
    "df = df.set_index('Id')\n",
    "\n",
    "df.to_csv('../datasets/esn_first_submit.csv')"
   ]
  }
 ],
 "metadata": {
  "kernelspec": {
   "display_name": "Python 3",
   "language": "python",
   "name": "python3"
  },
  "language_info": {
   "codemirror_mode": {
    "name": "ipython",
    "version": 3
   },
   "file_extension": ".py",
   "mimetype": "text/x-python",
   "name": "python",
   "nbconvert_exporter": "python",
   "pygments_lexer": "ipython3",
   "version": "3.7.1"
  }
 },
 "nbformat": 4,
 "nbformat_minor": 2
}
