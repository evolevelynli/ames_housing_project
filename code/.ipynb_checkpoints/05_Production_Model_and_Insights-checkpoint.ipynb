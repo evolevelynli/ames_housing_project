{
 "cells": [
  {
   "cell_type": "markdown",
   "metadata": {},
   "source": [
    "# Ames Housing Project"
   ]
  },
  {
   "cell_type": "markdown",
   "metadata": {},
   "source": [
    "\n",
    "## Project Challenge Statement\n",
    "\n",
    "#### Goal: Predict the price of homes at sale for the Aimes Iowa Housing dataset. \n",
    "\n",
    "Two files used to build the model. \n",
    "\n",
    "- train_data_cleanna.csv -- this data contains all of the training data with no missing values and outliers\n",
    "- test_data_cleanna.csv -- this data contains all of the testing data with no missing values and outlier\n"
   ]
  },
  {
   "cell_type": "markdown",
   "metadata": {},
   "source": [
    "## Table of Contents \n",
    "\n",
    "This Notebook is broken down into different sections for analysis purpose. The following links are connected to differenct section within the Notebook for simple navigation. \n",
    "\n",
    "### Contents:\n",
    "- [Ridge Tuning Model Features Analysis](#Ridge-Tuning-Model-Features-Analysis)\n",
    "- [Linear Regression With Specific Features](#Linear-Regression-With-Specific-Features)\n",
    "- [Recommendation](#Recommendation)\n",
    "\n",
    "### Describtion \n",
    "In the previous Model Tuning Notebook, 4 models were build to predict Sale Price. The conclusion we made was that the Ridge Model gives the best prediction of Sale Price with features engineering such as Polynomial Features and TransformedTargetRegressor. However, for the purpose of understanding the most important features, we will use Lasso model in this Notebook. In this notebook, we are going to try to understand what some of the variables that have the strongest affect in predicting Sale Price. Based on what we understand from the data, we will provide recommendation to home owners on how to effeciently improve Sale Price for their home. "
   ]
  },
  {
   "cell_type": "code",
   "execution_count": 37,
   "metadata": {},
   "outputs": [],
   "source": [
    "#Eliminate warnings \n",
    "import sys\n",
    "import warnings\n",
    "\n",
    "if not sys.warnoptions:\n",
    "    warnings.simplefilter(\"ignore\")"
   ]
  },
  {
   "cell_type": "code",
   "execution_count": 270,
   "metadata": {},
   "outputs": [],
   "source": [
    "# Library imports\n",
    "from sklearn.pipeline import Pipeline\n",
    "from sklearn.linear_model import LassoCV, RidgeCV, ElasticNetCV, LinearRegression\n",
    "from sklearn.preprocessing import StandardScaler, PolynomialFeatures, PowerTransformer\n",
    "from sklearn.model_selection import train_test_split, GridSearchCV\n",
    "from sklearn.feature_selection import SelectKBest, VarianceThreshold, f_regression, RFECV\n",
    "from sklearn.metrics import mean_squared_error\n",
    "from sklearn.compose import TransformedTargetRegressor\n",
    "import statsmodels.api as sm\n",
    "import numpy as np\n",
    "import pandas as pd\n",
    "import matplotlib.pyplot as plt\n",
    "from sklearn.metrics import r2_score\n",
    "\n",
    "\n",
    "np.random.seed(42)\n",
    "%matplotlib inline"
   ]
  },
  {
   "cell_type": "code",
   "execution_count": 3,
   "metadata": {},
   "outputs": [],
   "source": [
    "from functions import *"
   ]
  },
  {
   "cell_type": "code",
   "execution_count": 221,
   "metadata": {},
   "outputs": [],
   "source": [
    "#import Data \n",
    "clean_train_data = pd.read_csv('../datasets/train_data_clean.csv')\n",
    "clean_test_data = pd.read_csv('../datasets/test_data_clean.csv')\n",
    "\n",
    "base_train_data = pd.read_csv('../datasets/train_data_cleanna.csv')\n",
    "base_test_data = pd.read_csv('../datasets/test_data_cleanna.csv')"
   ]
  },
  {
   "cell_type": "code",
   "execution_count": 222,
   "metadata": {},
   "outputs": [],
   "source": [
    "#Extract common values in X_train and X_test values for X Variables \n",
    "p_cols = ['Lot Frontage', 'Lot Area', 'Overall Qual', 'Overall Cond',\n",
    "       'Year Built', 'Mas Vnr Area', 'BsmtFin SF 1', 'Total Bsmt SF',\n",
    "       '1st Flr SF', '2nd Flr SF', 'Bedroom AbvGr', 'Kitchen AbvGr',\n",
    "       'Garage Area', 'Wood Deck SF', 'Screen Porch', 'Neighborhood_Edwards',\n",
    "       'Neighborhood_Gilbert', 'Neighborhood_NAmes',\n",
    "       'Neighborhood_NWAmes', 'Neighborhood_NoRidge', 'Neighborhood_NridgHt',\n",
    "       'Neighborhood_OldTown', 'Neighborhood_SWISU', 'Neighborhood_Sawyer',\n",
    "       'Neighborhood_StoneBr', 'Exterior 1st_BrkFace',\n",
    "       'Garage Cond_Ex']"
   ]
  },
  {
   "cell_type": "code",
   "execution_count": 223,
   "metadata": {},
   "outputs": [],
   "source": [
    "#Categorical Values for getting Dummy\n",
    "X_dummy = ext_cat_features(base_train_data)"
   ]
  },
  {
   "cell_type": "markdown",
   "metadata": {},
   "source": [
    "## Ridge Tuning Model Features Analysis"
   ]
  },
  {
   "cell_type": "markdown",
   "metadata": {},
   "source": [
    "### Rerun Ridge Model for Features Extraction"
   ]
  },
  {
   "cell_type": "code",
   "execution_count": 230,
   "metadata": {},
   "outputs": [],
   "source": [
    "X = pd.get_dummies(base_train_data, columns = X_dummy).drop(columns = ['Unnamed: 0', 'Id','PID', 'SalePrice'])\n",
    "y = base_train_data['SalePrice']\n",
    "X_train, X_test, y_train, y_test = train_test_split(X, y, random_state = 42)"
   ]
  },
  {
   "cell_type": "code",
   "execution_count": 231,
   "metadata": {},
   "outputs": [],
   "source": [
    "#Lasso pipeline \n",
    "pipe = Pipeline([\n",
    "    ('poly', PolynomialFeatures(include_bias=False)),\n",
    "    ('var_thresh', VarianceThreshold(.05)),\n",
    "    ('ss', StandardScaler()),\n",
    "    ('tt', TransformedTargetRegressor(regressor = RidgeCV(), func=np.log, inverse_func=np.exp))\n",
    "])"
   ]
  },
  {
   "cell_type": "code",
   "execution_count": 232,
   "metadata": {
    "scrolled": false
   },
   "outputs": [
    {
     "name": "stdout",
     "output_type": "stream",
     "text": [
      "train score 0.9472064454826928\n",
      "test score 0.9017416969300243\n",
      "R2 score 0.8945915127673574\n"
     ]
    }
   ],
   "source": [
    "pipe.fit(X_train[p_cols], y_train)\n",
    "pipe_predict = pipe.predict(X_test[p_cols])\n",
    "print(\"train score\", pipe.score(X_train[p_cols], y_train))\n",
    "print('test score', pipe.score(X_test[p_cols], y_test))\n",
    "print(\"R2 score\", r2_score(ridge_predict, y_test));"
   ]
  },
  {
   "cell_type": "code",
   "execution_count": 233,
   "metadata": {},
   "outputs": [],
   "source": [
    "## Build a gride \n",
    "param_grid = {\n",
    "    'var_thresh__threshold': [0, .05, .1, .25],\n",
    "    'tt__regressor' : [RidgeCV(), LassoCV()]\n",
    "}"
   ]
  },
  {
   "cell_type": "code",
   "execution_count": 234,
   "metadata": {},
   "outputs": [],
   "source": [
    "gs = GridSearchCV(pipe, param_grid)"
   ]
  },
  {
   "cell_type": "code",
   "execution_count": 271,
   "metadata": {},
   "outputs": [
    {
     "data": {
      "text/plain": [
       "VarianceThreshold(threshold=0.25)"
      ]
     },
     "execution_count": 271,
     "metadata": {},
     "output_type": "execute_result"
    }
   ],
   "source": [
    "gs.best_estimator_.named_steps['var_thresh']"
   ]
  },
  {
   "cell_type": "code",
   "execution_count": 272,
   "metadata": {
    "scrolled": true
   },
   "outputs": [
    {
     "data": {
      "text/plain": [
       "GridSearchCV(cv='warn', error_score='raise-deprecating',\n",
       "       estimator=Pipeline(memory=None,\n",
       "     steps=[('poly', PolynomialFeatures(degree=2, include_bias=False, interaction_only=False)), ('var_thresh', VarianceThreshold(threshold=0.05)), ('ss', StandardScaler(copy=True, with_mean=True, with_std=True)), ('tt', TransformedTargetRegressor(check_inverse=True, func=<ufunc 'log'>,\n",
       "              inve..._mode=None, normalize=False, scoring=None, store_cv_values=False),\n",
       "              transformer=None))]),\n",
       "       fit_params=None, iid='warn', n_jobs=None,\n",
       "       param_grid={'var_thresh__threshold': [0, 0.05, 0.1, 0.25], 'tt__regressor': [RidgeCV(alphas=array([ 0.1,  1. , 10. ]), cv=None, fit_intercept=True,\n",
       "    gcv_mode=None, normalize=False, scoring=None, store_cv_values=False), LassoCV(alphas=None, copy_X=True, cv='warn', eps=0.001, fit_intercept=True,\n",
       "    max_iter=1000, n_alphas=100, n_jobs=None, normalize=False,\n",
       "    positive=False, precompute='auto', random_state=None,\n",
       "    selection='cyclic', tol=0.0001, verbose=False)]},\n",
       "       pre_dispatch='2*n_jobs', refit=True, return_train_score='warn',\n",
       "       scoring=None, verbose=0)"
      ]
     },
     "execution_count": 272,
     "metadata": {},
     "output_type": "execute_result"
    }
   ],
   "source": [
    "gs.fit(X_train[p_cols], y_train)"
   ]
  },
  {
   "cell_type": "code",
   "execution_count": 275,
   "metadata": {
    "scrolled": true
   },
   "outputs": [
    {
     "data": {
      "text/plain": [
       "array([[1.0700e+02, 1.2888e+04, 7.0000e+00, ..., 0.0000e+00, 0.0000e+00,\n",
       "        0.0000e+00],\n",
       "       [6.0000e+01, 7.2000e+03, 5.0000e+00, ..., 0.0000e+00, 0.0000e+00,\n",
       "        0.0000e+00],\n",
       "       [8.5000e+01, 1.0655e+04, 8.0000e+00, ..., 0.0000e+00, 0.0000e+00,\n",
       "        0.0000e+00],\n",
       "       ...,\n",
       "       [4.2000e+01, 3.9640e+03, 6.0000e+00, ..., 0.0000e+00, 0.0000e+00,\n",
       "        0.0000e+00],\n",
       "       [9.4000e+01, 9.2590e+03, 4.0000e+00, ..., 0.0000e+00, 0.0000e+00,\n",
       "        0.0000e+00],\n",
       "       [7.0000e+01, 9.1000e+03, 7.0000e+00, ..., 0.0000e+00, 0.0000e+00,\n",
       "        0.0000e+00]])"
      ]
     },
     "execution_count": 275,
     "metadata": {},
     "output_type": "execute_result"
    }
   ],
   "source": [
    "gs.best_estimator_.named_steps['poly'].transform(X_train[p_cols])"
   ]
  },
  {
   "cell_type": "markdown",
   "metadata": {},
   "source": [
    "### Extract the Coeficient and Variables names "
   ]
  },
  {
   "cell_type": "code",
   "execution_count": 276,
   "metadata": {},
   "outputs": [],
   "source": [
    "#Extract the coeficient and variables names \n",
    "mask = gs.best_estimator_.named_steps['var_thresh'].get_support()\n",
    "coefs = gs.best_estimator_.named_steps['tt'].regressor_.coef_\n",
    "poly_data = gs.best_estimator_.named_steps['poly'].transform(X_train[p_cols])\n",
    "poly_cols = gs.best_estimator_.named_steps['poly'].get_feature_names(X_train[p_cols].columns)\n",
    "\n",
    "#Dataframe with column names \n",
    "poly_data = pd.DataFrame(poly_data, columns = poly_cols)"
   ]
  },
  {
   "cell_type": "code",
   "execution_count": 277,
   "metadata": {},
   "outputs": [],
   "source": [
    "coef_df = pd.DataFrame([coefs, poly_cols]).T.set_index(1)"
   ]
  },
  {
   "cell_type": "code",
   "execution_count": 278,
   "metadata": {},
   "outputs": [],
   "source": [
    "coef_df.columns = ['Coef']"
   ]
  },
  {
   "cell_type": "code",
   "execution_count": 279,
   "metadata": {},
   "outputs": [
    {
     "data": {
      "text/plain": [
       "1\n",
       "Total Bsmt SF Kitchen AbvGr           -0.0788684\n",
       "Total Bsmt SF Garage Area             -0.0477789\n",
       "BsmtFin SF 1 Neighborhood_NoRidge     -0.0431041\n",
       "Lot Frontage Exterior 1st_BrkFace     -0.0354583\n",
       "BsmtFin SF 1 Neighborhood_OldTown     -0.0287733\n",
       "Overall Qual Neighborhood_Sawyer      -0.0225443\n",
       "BsmtFin SF 1 Kitchen AbvGr             -0.022284\n",
       "Mas Vnr Area Neighborhood_Edwards      -0.021226\n",
       "Lot Frontage 1st Flr SF               -0.0133814\n",
       "Neighborhood_Edwards                  -0.0130678\n",
       "Mas Vnr Area Neighborhood_NWAmes      -0.0127395\n",
       "2nd Flr SF Neighborhood_StoneBr        -0.012598\n",
       "BsmtFin SF 1 Total Bsmt SF            -0.0123312\n",
       "Mas Vnr Area Neighborhood_NAmes       -0.0123267\n",
       "1st Flr SF Neighborhood_Sawyer        -0.0119232\n",
       "Mas Vnr Area Neighborhood_SWISU       -0.0113273\n",
       "Overall Qual Year Built               -0.0111915\n",
       "Total Bsmt SF Neighborhood_NridgHt    -0.0103356\n",
       "BsmtFin SF 1 Neighborhood_SWISU       -0.0103287\n",
       "1st Flr SF Neighborhood_Edwards      -0.00992513\n",
       "Name: Coef, dtype: object"
      ]
     },
     "execution_count": 279,
     "metadata": {},
     "output_type": "execute_result"
    }
   ],
   "source": [
    "coef_df[\"Coef\"].sort_values(ascending = True)[:20]"
   ]
  },
  {
   "cell_type": "code",
   "execution_count": 280,
   "metadata": {},
   "outputs": [
    {
     "data": {
      "text/plain": [
       "1\n",
       "1st Flr SF                             0.14173\n",
       "2nd Flr SF                            0.116462\n",
       "Total Bsmt SF                        0.0904305\n",
       "Overall Qual                         0.0883427\n",
       "BsmtFin SF 1                         0.0849193\n",
       "Year Built                             0.08103\n",
       "Overall Qual Neighborhood_NoRidge    0.0613173\n",
       "Overall Cond Neighborhood_Gilbert     0.050958\n",
       "Overall Cond                         0.0471635\n",
       "Lot Frontage Neighborhood_Gilbert    0.0468045\n",
       "Overall Cond Exterior 1st_BrkFace    0.0450946\n",
       "2nd Flr SF Garage Cond_Ex            0.0396035\n",
       "Kitchen AbvGr                        0.0335408\n",
       "Lot Area Neighborhood_Gilbert        0.0267725\n",
       "Total Bsmt SF Neighborhood_NWAmes    0.0264205\n",
       "Neighborhood_Sawyer                  0.0258809\n",
       "Lot Area                             0.0179793\n",
       "Lot Frontage Bedroom AbvGr           0.0178476\n",
       "Overall Cond Garage Area             0.0160742\n",
       "Lot Frontage Lot Area                0.0151477\n",
       "Name: Coef, dtype: object"
      ]
     },
     "execution_count": 280,
     "metadata": {},
     "output_type": "execute_result"
    }
   ],
   "source": [
    "coef_df[\"Coef\"].sort_values(ascending = False)[:20]"
   ]
  },
  {
   "cell_type": "code",
   "execution_count": 281,
   "metadata": {},
   "outputs": [],
   "source": [
    "upper_col = coef_df[\"Coef\"].sort_values(ascending = True)[:20].index\n",
    "lower_col = coef_df[\"Coef\"].sort_values(ascending = False)[:20].index"
   ]
  },
  {
   "cell_type": "code",
   "execution_count": 283,
   "metadata": {},
   "outputs": [
    {
     "data": {
      "text/plain": [
       "(1536, 40)"
      ]
     },
     "execution_count": 283,
     "metadata": {},
     "output_type": "execute_result"
    }
   ],
   "source": [
    "poly_data[upper_col.append(lower_col)].shape"
   ]
  },
  {
   "cell_type": "markdown",
   "metadata": {},
   "source": [
    "## Linear Regression With Specific Features\n",
    "\n",
    "In this section, we are going to use the significant features to build Linear Regression Model to check the significance of their P_value and understand which ones are the most important features. \n"
   ]
  },
  {
   "cell_type": "code",
   "execution_count": 284,
   "metadata": {},
   "outputs": [
    {
     "data": {
      "text/plain": [
       "((1536, 40), (1536,))"
      ]
     },
     "execution_count": 284,
     "metadata": {},
     "output_type": "execute_result"
    }
   ],
   "source": [
    "poly_data[upper_col.append(lower_col)].shape, y_train.shape"
   ]
  },
  {
   "cell_type": "code",
   "execution_count": 306,
   "metadata": {},
   "outputs": [],
   "source": [
    "#Fit linear Regression model for X columns from above and y \n",
    "X = poly_data[upper_col.append(lower_col)].reset_index()\n",
    "X = X = sm.add_constant(X)\n",
    "y = y_train.reset_index().drop(columns = 'index')"
   ]
  },
  {
   "cell_type": "code",
   "execution_count": 307,
   "metadata": {},
   "outputs": [],
   "source": [
    "#Fit linear model again to check selected columns \n",
    "OLS = sm.OLS(y, X)\n",
    "results = OLS.fit()"
   ]
  },
  {
   "cell_type": "code",
   "execution_count": 308,
   "metadata": {
    "scrolled": false
   },
   "outputs": [
    {
     "data": {
      "text/html": [
       "<table class=\"simpletable\">\n",
       "<caption>OLS Regression Results</caption>\n",
       "<tr>\n",
       "  <th>Dep. Variable:</th>        <td>SalePrice</td>    <th>  R-squared:         </th> <td>   0.904</td> \n",
       "</tr>\n",
       "<tr>\n",
       "  <th>Model:</th>                   <td>OLS</td>       <th>  Adj. R-squared:    </th> <td>   0.901</td> \n",
       "</tr>\n",
       "<tr>\n",
       "  <th>Method:</th>             <td>Least Squares</td>  <th>  F-statistic:       </th> <td>   350.0</td> \n",
       "</tr>\n",
       "<tr>\n",
       "  <th>Date:</th>             <td>Thu, 21 Mar 2019</td> <th>  Prob (F-statistic):</th>  <td>  0.00</td>  \n",
       "</tr>\n",
       "<tr>\n",
       "  <th>Time:</th>                 <td>16:12:20</td>     <th>  Log-Likelihood:    </th> <td> -17709.</td> \n",
       "</tr>\n",
       "<tr>\n",
       "  <th>No. Observations:</th>      <td>  1536</td>      <th>  AIC:               </th> <td>3.550e+04</td>\n",
       "</tr>\n",
       "<tr>\n",
       "  <th>Df Residuals:</th>          <td>  1495</td>      <th>  BIC:               </th> <td>3.572e+04</td>\n",
       "</tr>\n",
       "<tr>\n",
       "  <th>Df Model:</th>              <td>    40</td>      <th>                     </th>     <td> </td>    \n",
       "</tr>\n",
       "<tr>\n",
       "  <th>Covariance Type:</th>      <td>nonrobust</td>    <th>                     </th>     <td> </td>    \n",
       "</tr>\n",
       "</table>\n",
       "<table class=\"simpletable\">\n",
       "<tr>\n",
       "                   <td></td>                     <th>coef</th>     <th>std err</th>      <th>t</th>      <th>P>|t|</th>  <th>[0.025</th>    <th>0.975]</th>  \n",
       "</tr>\n",
       "<tr>\n",
       "  <th>const</th>                              <td> 1.077e+06</td> <td> 2.24e+05</td> <td>    4.800</td> <td> 0.000</td> <td> 6.37e+05</td> <td> 1.52e+06</td>\n",
       "</tr>\n",
       "<tr>\n",
       "  <th>index</th>                              <td>    0.7030</td> <td>    1.458</td> <td>    0.482</td> <td> 0.630</td> <td>   -2.157</td> <td>    3.563</td>\n",
       "</tr>\n",
       "<tr>\n",
       "  <th>Total Bsmt SF Kitchen AbvGr</th>        <td>  -11.6713</td> <td>    5.858</td> <td>   -1.992</td> <td> 0.047</td> <td>  -23.162</td> <td>   -0.181</td>\n",
       "</tr>\n",
       "<tr>\n",
       "  <th>Total Bsmt SF Garage Area</th>          <td>    0.0238</td> <td>    0.007</td> <td>    3.446</td> <td> 0.001</td> <td>    0.010</td> <td>    0.037</td>\n",
       "</tr>\n",
       "<tr>\n",
       "  <th>BsmtFin SF 1 Neighborhood_NoRidge</th>  <td>  -18.1658</td> <td>    9.297</td> <td>   -1.954</td> <td> 0.051</td> <td>  -36.402</td> <td>    0.071</td>\n",
       "</tr>\n",
       "<tr>\n",
       "  <th>Lot Frontage Exterior 1st_BrkFace</th>  <td> -371.0134</td> <td>  169.190</td> <td>   -2.193</td> <td> 0.028</td> <td> -702.888</td> <td>  -39.139</td>\n",
       "</tr>\n",
       "<tr>\n",
       "  <th>BsmtFin SF 1 Neighborhood_OldTown</th>  <td>  -31.9450</td> <td>    8.475</td> <td>   -3.769</td> <td> 0.000</td> <td>  -48.569</td> <td>  -15.321</td>\n",
       "</tr>\n",
       "<tr>\n",
       "  <th>Overall Qual Neighborhood_Sawyer</th>   <td>-9494.0293</td> <td> 4445.072</td> <td>   -2.136</td> <td> 0.033</td> <td>-1.82e+04</td> <td> -774.790</td>\n",
       "</tr>\n",
       "<tr>\n",
       "  <th>BsmtFin SF 1 Kitchen AbvGr</th>         <td>   -3.0759</td> <td>    7.773</td> <td>   -0.396</td> <td> 0.692</td> <td>  -18.323</td> <td>   12.172</td>\n",
       "</tr>\n",
       "<tr>\n",
       "  <th>Mas Vnr Area Neighborhood_Edwards</th>  <td>  -52.2666</td> <td>   32.629</td> <td>   -1.602</td> <td> 0.109</td> <td> -116.270</td> <td>   11.737</td>\n",
       "</tr>\n",
       "<tr>\n",
       "  <th>Lot Frontage 1st Flr SF</th>            <td>    0.3230</td> <td>    0.065</td> <td>    5.003</td> <td> 0.000</td> <td>    0.196</td> <td>    0.450</td>\n",
       "</tr>\n",
       "<tr>\n",
       "  <th>Neighborhood_Edwards</th>               <td>-1003.0694</td> <td> 8081.756</td> <td>   -0.124</td> <td> 0.901</td> <td>-1.69e+04</td> <td> 1.48e+04</td>\n",
       "</tr>\n",
       "<tr>\n",
       "  <th>Mas Vnr Area Neighborhood_NWAmes</th>   <td>  -10.6918</td> <td>   20.752</td> <td>   -0.515</td> <td> 0.606</td> <td>  -51.397</td> <td>   30.014</td>\n",
       "</tr>\n",
       "<tr>\n",
       "  <th>2nd Flr SF Neighborhood_StoneBr</th>    <td>   62.5027</td> <td>    6.096</td> <td>   10.252</td> <td> 0.000</td> <td>   50.544</td> <td>   74.461</td>\n",
       "</tr>\n",
       "<tr>\n",
       "  <th>BsmtFin SF 1 Total Bsmt SF</th>         <td>    0.0171</td> <td>    0.003</td> <td>    4.934</td> <td> 0.000</td> <td>    0.010</td> <td>    0.024</td>\n",
       "</tr>\n",
       "<tr>\n",
       "  <th>Mas Vnr Area Neighborhood_NAmes</th>    <td>  -23.1211</td> <td>    9.496</td> <td>   -2.435</td> <td> 0.015</td> <td>  -41.748</td> <td>   -4.494</td>\n",
       "</tr>\n",
       "<tr>\n",
       "  <th>1st Flr SF Neighborhood_Sawyer</th>     <td>  -20.6548</td> <td>   11.167</td> <td>   -1.850</td> <td> 0.065</td> <td>  -42.559</td> <td>    1.250</td>\n",
       "</tr>\n",
       "<tr>\n",
       "  <th>Mas Vnr Area Neighborhood_SWISU</th>    <td>   77.1432</td> <td>   85.191</td> <td>    0.906</td> <td> 0.365</td> <td>  -89.963</td> <td>  244.250</td>\n",
       "</tr>\n",
       "<tr>\n",
       "  <th>Overall Qual Year Built</th>            <td>  177.0001</td> <td>   18.806</td> <td>    9.412</td> <td> 0.000</td> <td>  140.111</td> <td>  213.889</td>\n",
       "</tr>\n",
       "<tr>\n",
       "  <th>Total Bsmt SF Neighborhood_NridgHt</th> <td>   14.5136</td> <td>    2.030</td> <td>    7.148</td> <td> 0.000</td> <td>   10.531</td> <td>   18.496</td>\n",
       "</tr>\n",
       "<tr>\n",
       "  <th>BsmtFin SF 1 Neighborhood_SWISU</th>    <td>  -10.2900</td> <td>   15.961</td> <td>   -0.645</td> <td> 0.519</td> <td>  -41.598</td> <td>   21.018</td>\n",
       "</tr>\n",
       "<tr>\n",
       "  <th>1st Flr SF Neighborhood_Edwards</th>    <td>   -0.8889</td> <td>    7.180</td> <td>   -0.124</td> <td> 0.901</td> <td>  -14.973</td> <td>   13.195</td>\n",
       "</tr>\n",
       "<tr>\n",
       "  <th>1st Flr SF</th>                         <td>   35.4877</td> <td>    5.673</td> <td>    6.256</td> <td> 0.000</td> <td>   24.360</td> <td>   46.615</td>\n",
       "</tr>\n",
       "<tr>\n",
       "  <th>2nd Flr SF</th>                         <td>   57.2657</td> <td>    2.425</td> <td>   23.619</td> <td> 0.000</td> <td>   52.510</td> <td>   62.022</td>\n",
       "</tr>\n",
       "<tr>\n",
       "  <th>Total Bsmt SF</th>                      <td>   14.5732</td> <td>    8.624</td> <td>    1.690</td> <td> 0.091</td> <td>   -2.343</td> <td>   31.489</td>\n",
       "</tr>\n",
       "<tr>\n",
       "  <th>Overall Qual</th>                       <td>-3.343e+05</td> <td>  3.7e+04</td> <td>   -9.026</td> <td> 0.000</td> <td>-4.07e+05</td> <td>-2.62e+05</td>\n",
       "</tr>\n",
       "<tr>\n",
       "  <th>BsmtFin SF 1</th>                       <td>    3.8958</td> <td>    9.193</td> <td>    0.424</td> <td> 0.672</td> <td>  -14.138</td> <td>   21.929</td>\n",
       "</tr>\n",
       "<tr>\n",
       "  <th>Year Built</th>                         <td> -580.4305</td> <td>  114.924</td> <td>   -5.051</td> <td> 0.000</td> <td> -805.860</td> <td> -355.000</td>\n",
       "</tr>\n",
       "<tr>\n",
       "  <th>Overall Qual Neighborhood_NoRidge</th>  <td> 3849.4004</td> <td> 1057.815</td> <td>    3.639</td> <td> 0.000</td> <td> 1774.442</td> <td> 5924.359</td>\n",
       "</tr>\n",
       "<tr>\n",
       "  <th>Overall Cond Neighborhood_Gilbert</th>  <td> -712.9799</td> <td> 2168.416</td> <td>   -0.329</td> <td> 0.742</td> <td>-4966.440</td> <td> 3540.481</td>\n",
       "</tr>\n",
       "<tr>\n",
       "  <th>Overall Cond</th>                       <td> 8063.8345</td> <td>  860.828</td> <td>    9.368</td> <td> 0.000</td> <td> 6375.276</td> <td> 9752.393</td>\n",
       "</tr>\n",
       "<tr>\n",
       "  <th>Lot Frontage Neighborhood_Gilbert</th>  <td>  164.2209</td> <td>  163.564</td> <td>    1.004</td> <td> 0.316</td> <td> -156.619</td> <td>  485.060</td>\n",
       "</tr>\n",
       "<tr>\n",
       "  <th>Overall Cond Exterior 1st_BrkFace</th>  <td> 7635.2702</td> <td> 2198.874</td> <td>    3.472</td> <td> 0.001</td> <td> 3322.065</td> <td> 1.19e+04</td>\n",
       "</tr>\n",
       "<tr>\n",
       "  <th>2nd Flr SF Garage Cond_Ex</th>          <td>-6.096e-09</td> <td> 2.17e-09</td> <td>   -2.805</td> <td> 0.005</td> <td>-1.04e-08</td> <td>-1.83e-09</td>\n",
       "</tr>\n",
       "<tr>\n",
       "  <th>Kitchen AbvGr</th>                      <td>-7930.9486</td> <td> 6059.863</td> <td>   -1.309</td> <td> 0.191</td> <td>-1.98e+04</td> <td> 3955.787</td>\n",
       "</tr>\n",
       "<tr>\n",
       "  <th>Lot Area Neighborhood_Gilbert</th>      <td>   -0.9303</td> <td>    0.503</td> <td>   -1.850</td> <td> 0.064</td> <td>   -1.917</td> <td>    0.056</td>\n",
       "</tr>\n",
       "<tr>\n",
       "  <th>Total Bsmt SF Neighborhood_NWAmes</th>  <td>  -12.3362</td> <td>    3.759</td> <td>   -3.282</td> <td> 0.001</td> <td>  -19.710</td> <td>   -4.962</td>\n",
       "</tr>\n",
       "<tr>\n",
       "  <th>Neighborhood_Sawyer</th>                <td> 6.985e+04</td> <td> 2.48e+04</td> <td>    2.812</td> <td> 0.005</td> <td> 2.11e+04</td> <td> 1.19e+05</td>\n",
       "</tr>\n",
       "<tr>\n",
       "  <th>Lot Area</th>                           <td>    2.4848</td> <td>    0.355</td> <td>    7.005</td> <td> 0.000</td> <td>    1.789</td> <td>    3.181</td>\n",
       "</tr>\n",
       "<tr>\n",
       "  <th>Lot Frontage Bedroom AbvGr</th>         <td>  -41.0488</td> <td>   13.614</td> <td>   -3.015</td> <td> 0.003</td> <td>  -67.753</td> <td>  -14.345</td>\n",
       "</tr>\n",
       "<tr>\n",
       "  <th>Overall Cond Garage Area</th>           <td>    0.1837</td> <td>    1.347</td> <td>    0.136</td> <td> 0.892</td> <td>   -2.459</td> <td>    2.826</td>\n",
       "</tr>\n",
       "<tr>\n",
       "  <th>Lot Frontage Lot Area</th>              <td>   -0.0173</td> <td>    0.005</td> <td>   -3.672</td> <td> 0.000</td> <td>   -0.027</td> <td>   -0.008</td>\n",
       "</tr>\n",
       "</table>\n",
       "<table class=\"simpletable\">\n",
       "<tr>\n",
       "  <th>Omnibus:</th>       <td>550.574</td> <th>  Durbin-Watson:     </th> <td>   1.958</td>\n",
       "</tr>\n",
       "<tr>\n",
       "  <th>Prob(Omnibus):</th> <td> 0.000</td>  <th>  Jarque-Bera (JB):  </th> <td>9154.139</td>\n",
       "</tr>\n",
       "<tr>\n",
       "  <th>Skew:</th>          <td> 1.222</td>  <th>  Prob(JB):          </th> <td>    0.00</td>\n",
       "</tr>\n",
       "<tr>\n",
       "  <th>Kurtosis:</th>      <td>14.707</td>  <th>  Cond. No.          </th> <td>1.23e+16</td>\n",
       "</tr>\n",
       "</table><br/><br/>Warnings:<br/>[1] Standard Errors assume that the covariance matrix of the errors is correctly specified.<br/>[2] The smallest eigenvalue is 1.79e-17. This might indicate that there are<br/>strong multicollinearity problems or that the design matrix is singular."
      ],
      "text/plain": [
       "<class 'statsmodels.iolib.summary.Summary'>\n",
       "\"\"\"\n",
       "                            OLS Regression Results                            \n",
       "==============================================================================\n",
       "Dep. Variable:              SalePrice   R-squared:                       0.904\n",
       "Model:                            OLS   Adj. R-squared:                  0.901\n",
       "Method:                 Least Squares   F-statistic:                     350.0\n",
       "Date:                Thu, 21 Mar 2019   Prob (F-statistic):               0.00\n",
       "Time:                        16:12:20   Log-Likelihood:                -17709.\n",
       "No. Observations:                1536   AIC:                         3.550e+04\n",
       "Df Residuals:                    1495   BIC:                         3.572e+04\n",
       "Df Model:                          40                                         \n",
       "Covariance Type:            nonrobust                                         \n",
       "======================================================================================================\n",
       "                                         coef    std err          t      P>|t|      [0.025      0.975]\n",
       "------------------------------------------------------------------------------------------------------\n",
       "const                               1.077e+06   2.24e+05      4.800      0.000    6.37e+05    1.52e+06\n",
       "index                                  0.7030      1.458      0.482      0.630      -2.157       3.563\n",
       "Total Bsmt SF Kitchen AbvGr          -11.6713      5.858     -1.992      0.047     -23.162      -0.181\n",
       "Total Bsmt SF Garage Area              0.0238      0.007      3.446      0.001       0.010       0.037\n",
       "BsmtFin SF 1 Neighborhood_NoRidge    -18.1658      9.297     -1.954      0.051     -36.402       0.071\n",
       "Lot Frontage Exterior 1st_BrkFace   -371.0134    169.190     -2.193      0.028    -702.888     -39.139\n",
       "BsmtFin SF 1 Neighborhood_OldTown    -31.9450      8.475     -3.769      0.000     -48.569     -15.321\n",
       "Overall Qual Neighborhood_Sawyer   -9494.0293   4445.072     -2.136      0.033   -1.82e+04    -774.790\n",
       "BsmtFin SF 1 Kitchen AbvGr            -3.0759      7.773     -0.396      0.692     -18.323      12.172\n",
       "Mas Vnr Area Neighborhood_Edwards    -52.2666     32.629     -1.602      0.109    -116.270      11.737\n",
       "Lot Frontage 1st Flr SF                0.3230      0.065      5.003      0.000       0.196       0.450\n",
       "Neighborhood_Edwards               -1003.0694   8081.756     -0.124      0.901   -1.69e+04    1.48e+04\n",
       "Mas Vnr Area Neighborhood_NWAmes     -10.6918     20.752     -0.515      0.606     -51.397      30.014\n",
       "2nd Flr SF Neighborhood_StoneBr       62.5027      6.096     10.252      0.000      50.544      74.461\n",
       "BsmtFin SF 1 Total Bsmt SF             0.0171      0.003      4.934      0.000       0.010       0.024\n",
       "Mas Vnr Area Neighborhood_NAmes      -23.1211      9.496     -2.435      0.015     -41.748      -4.494\n",
       "1st Flr SF Neighborhood_Sawyer       -20.6548     11.167     -1.850      0.065     -42.559       1.250\n",
       "Mas Vnr Area Neighborhood_SWISU       77.1432     85.191      0.906      0.365     -89.963     244.250\n",
       "Overall Qual Year Built              177.0001     18.806      9.412      0.000     140.111     213.889\n",
       "Total Bsmt SF Neighborhood_NridgHt    14.5136      2.030      7.148      0.000      10.531      18.496\n",
       "BsmtFin SF 1 Neighborhood_SWISU      -10.2900     15.961     -0.645      0.519     -41.598      21.018\n",
       "1st Flr SF Neighborhood_Edwards       -0.8889      7.180     -0.124      0.901     -14.973      13.195\n",
       "1st Flr SF                            35.4877      5.673      6.256      0.000      24.360      46.615\n",
       "2nd Flr SF                            57.2657      2.425     23.619      0.000      52.510      62.022\n",
       "Total Bsmt SF                         14.5732      8.624      1.690      0.091      -2.343      31.489\n",
       "Overall Qual                       -3.343e+05    3.7e+04     -9.026      0.000   -4.07e+05   -2.62e+05\n",
       "BsmtFin SF 1                           3.8958      9.193      0.424      0.672     -14.138      21.929\n",
       "Year Built                          -580.4305    114.924     -5.051      0.000    -805.860    -355.000\n",
       "Overall Qual Neighborhood_NoRidge   3849.4004   1057.815      3.639      0.000    1774.442    5924.359\n",
       "Overall Cond Neighborhood_Gilbert   -712.9799   2168.416     -0.329      0.742   -4966.440    3540.481\n",
       "Overall Cond                        8063.8345    860.828      9.368      0.000    6375.276    9752.393\n",
       "Lot Frontage Neighborhood_Gilbert    164.2209    163.564      1.004      0.316    -156.619     485.060\n",
       "Overall Cond Exterior 1st_BrkFace   7635.2702   2198.874      3.472      0.001    3322.065    1.19e+04\n",
       "2nd Flr SF Garage Cond_Ex          -6.096e-09   2.17e-09     -2.805      0.005   -1.04e-08   -1.83e-09\n",
       "Kitchen AbvGr                      -7930.9486   6059.863     -1.309      0.191   -1.98e+04    3955.787\n",
       "Lot Area Neighborhood_Gilbert         -0.9303      0.503     -1.850      0.064      -1.917       0.056\n",
       "Total Bsmt SF Neighborhood_NWAmes    -12.3362      3.759     -3.282      0.001     -19.710      -4.962\n",
       "Neighborhood_Sawyer                 6.985e+04   2.48e+04      2.812      0.005    2.11e+04    1.19e+05\n",
       "Lot Area                               2.4848      0.355      7.005      0.000       1.789       3.181\n",
       "Lot Frontage Bedroom AbvGr           -41.0488     13.614     -3.015      0.003     -67.753     -14.345\n",
       "Overall Cond Garage Area               0.1837      1.347      0.136      0.892      -2.459       2.826\n",
       "Lot Frontage Lot Area                 -0.0173      0.005     -3.672      0.000      -0.027      -0.008\n",
       "==============================================================================\n",
       "Omnibus:                      550.574   Durbin-Watson:                   1.958\n",
       "Prob(Omnibus):                  0.000   Jarque-Bera (JB):             9154.139\n",
       "Skew:                           1.222   Prob(JB):                         0.00\n",
       "Kurtosis:                      14.707   Cond. No.                     1.23e+16\n",
       "==============================================================================\n",
       "\n",
       "Warnings:\n",
       "[1] Standard Errors assume that the covariance matrix of the errors is correctly specified.\n",
       "[2] The smallest eigenvalue is 1.79e-17. This might indicate that there are\n",
       "strong multicollinearity problems or that the design matrix is singular.\n",
       "\"\"\""
      ]
     },
     "execution_count": 308,
     "metadata": {},
     "output_type": "execute_result"
    }
   ],
   "source": [
    "results.summary()"
   ]
  },
  {
   "cell_type": "code",
   "execution_count": 321,
   "metadata": {
    "scrolled": false
   },
   "outputs": [
    {
     "data": {
      "text/plain": [
       "2nd Flr SF                            4.479263e-105\n",
       "2nd Flr SF Neighborhood_StoneBr        6.973964e-24\n",
       "Overall Qual Year Built                1.772577e-20\n",
       "Overall Cond                           2.637874e-20\n",
       "Overall Qual                           5.340683e-19\n",
       "Total Bsmt SF Neighborhood_NridgHt     1.369379e-12\n",
       "Lot Area                               3.727975e-12\n",
       "1st Flr SF                             5.158102e-10\n",
       "Year Built                             4.946925e-07\n",
       "Lot Frontage 1st Flr SF                6.321421e-07\n",
       "BsmtFin SF 1 Total Bsmt SF             8.944371e-07\n",
       "const                                  1.745324e-06\n",
       "BsmtFin SF 1 Neighborhood_OldTown      1.700293e-04\n",
       "Lot Frontage Lot Area                  2.493116e-04\n",
       "Overall Qual Neighborhood_NoRidge      2.829986e-04\n",
       "Overall Cond Exterior 1st_BrkFace      5.306161e-04\n",
       "Total Bsmt SF Garage Area              5.847221e-04\n",
       "Total Bsmt SF Neighborhood_NWAmes      1.056178e-03\n",
       "Lot Frontage Bedroom AbvGr             2.610867e-03\n",
       "Neighborhood_Sawyer                    4.990712e-03\n",
       "2nd Flr SF Garage Cond_Ex              5.100771e-03\n",
       "dtype: float64"
      ]
     },
     "execution_count": 321,
     "metadata": {},
     "output_type": "execute_result"
    }
   ],
   "source": [
    "#significant variables \n",
    "results.pvalues[results.pvalues < 0.01].sort_values(ascending = True)"
   ]
  },
  {
   "cell_type": "markdown",
   "metadata": {},
   "source": [
    "## Recommendation\n",
    "\n",
    "In this section, the following questions will be answered for the purpose of providing useful insght to improve sale price:\n",
    "\n",
    "- Which features appear to add the most value to a home?\n",
    "    - overall condition \n",
    "    - second floor SF\n",
    "    - lot area\n",
    "    - first floor SF\n",
    "- Which features hurt the value of a home the most?\n",
    "    - year build, the older the house, the cheaper the house \n",
    "- What are things that homeowners could improve in their homes to increase the value?\n",
    "    - people really value 2nd floor, the larger the 2nd floor, the higher the sale price \n",
    "    - specially true in Stonebar\n",
    "    - imporving in overall quality will also increase the house value \n",
    "    - lot area is also significant, positive relationship with saleprice \n",
    "    - expand total basement and garage area will boost house values \n",
    "- What neighborhoods seem like they might be a good investment?\n",
    "    - stonebr with second floor, significant positive correlation with Sale Price \n",
    "    - neightbourhood sawyer is positively correlated with saleprice \n",
    "    - Nridghrt neighourhood \n",
    "- Do you feel that this model will generalize to other cities? How could you revise your model to make it more universal OR what date would you need from another city to make a comparable model?"
   ]
  },
  {
   "cell_type": "markdown",
   "metadata": {},
   "source": [
    "According to our analysis, there are few variables have significantly high positive correlation with the Sale Price of the house. First is the overall condition of the house. As the condition of the house increase, the Sale Price of the house will also increase. Another feature that has the high positive correlation is second floor area of the house. The larger the second floor of the house is, the higher the sale price will be. Another important feature that contributes to increase in sale price is overall quality with year built. If a house is built recently, and the quality of the house is good, then the sale price of the house will increase. \n",
    "\n",
    "As for the features that decreases the Sale Price of the house, One interaction term caught my eye: Lot Frontage Bedroom AbvGr, which the lot "
   ]
  },
  {
   "cell_type": "code",
   "execution_count": 344,
   "metadata": {},
   "outputs": [
    {
     "data": {
      "text/plain": [
       "0       321.000000\n",
       "1       180.000000\n",
       "2       255.000000\n",
       "3       275.515998\n",
       "4       180.000000\n",
       "5       232.000000\n",
       "6       206.636998\n",
       "7       210.000000\n",
       "8       300.000000\n",
       "9       120.000000\n",
       "10      206.636998\n",
       "11      255.000000\n",
       "12      120.000000\n",
       "13      183.000000\n",
       "14      225.000000\n",
       "15      330.000000\n",
       "16      206.636998\n",
       "17      240.000000\n",
       "18      150.000000\n",
       "19      129.000000\n",
       "20      234.000000\n",
       "21      204.000000\n",
       "22      160.000000\n",
       "23      261.000000\n",
       "24      154.000000\n",
       "25      456.000000\n",
       "26      332.000000\n",
       "27      240.000000\n",
       "28      315.000000\n",
       "29       84.000000\n",
       "           ...    \n",
       "1506    206.636998\n",
       "1507    150.000000\n",
       "1508    100.000000\n",
       "1509    206.636998\n",
       "1510    234.000000\n",
       "1511    174.000000\n",
       "1512    137.757999\n",
       "1513    204.000000\n",
       "1514    150.000000\n",
       "1515    174.000000\n",
       "1516    206.636998\n",
       "1517    120.000000\n",
       "1518     48.000000\n",
       "1519    237.000000\n",
       "1520    206.636998\n",
       "1521    165.000000\n",
       "1522    275.515998\n",
       "1523    140.000000\n",
       "1524     72.000000\n",
       "1525    159.000000\n",
       "1526    240.000000\n",
       "1527    210.000000\n",
       "1528    210.000000\n",
       "1529    321.000000\n",
       "1530    168.000000\n",
       "1531    180.000000\n",
       "1532    222.000000\n",
       "1533    210.000000\n",
       "1534    188.000000\n",
       "1535    210.000000\n",
       "Name: Lot Frontage Bedroom AbvGr, Length: 1536, dtype: float64"
      ]
     },
     "execution_count": 344,
     "metadata": {},
     "output_type": "execute_result"
    }
   ],
   "source": [
    "X['Lot Frontage Bedroom AbvGr']"
   ]
  },
  {
   "cell_type": "code",
   "execution_count": 330,
   "metadata": {},
   "outputs": [
    {
     "data": {
      "text/plain": [
       "<matplotlib.collections.PathCollection at 0x1c2c7bd940>"
      ]
     },
     "execution_count": 330,
     "metadata": {},
     "output_type": "execute_result"
    },
    {
     "data": {
      "image/png": "[encoded data removed]",
      "text/plain": [
       "<Figure size 432x288 with 1 Axes>"
      ]
     },
     "metadata": {
      "needs_background": "light"
     },
     "output_type": "display_data"
    }
   ],
   "source": [
    "plt.scatter(X['Overall Qual'], y)"
   ]
  },
  {
   "cell_type": "code",
   "execution_count": 327,
   "metadata": {},
   "outputs": [
    {
     "data": {
      "text/plain": [
       "<matplotlib.collections.PathCollection at 0x1c2c77f2b0>"
      ]
     },
     "execution_count": 327,
     "metadata": {},
     "output_type": "execute_result"
    },
    {
     "data": {
      "image/png": "[encoded data removed]",
      "text/plain": [
       "<Figure size 432x288 with 1 Axes>"
      ]
     },
     "metadata": {
      "needs_background": "light"
     },
     "output_type": "display_data"
    }
   ],
   "source": [
    "plt.scatter(X['Year Built'], y)"
   ]
  },
  {
   "cell_type": "code",
   "execution_count": 329,
   "metadata": {},
   "outputs": [
    {
     "data": {
      "text/plain": [
       "<matplotlib.collections.PathCollection at 0x1c17b5d748>"
      ]
     },
     "execution_count": 329,
     "metadata": {},
     "output_type": "execute_result"
    },
    {
     "data": {
      "image/png": "[encoded data removed]",
      "text/plain": [
       "<Figure size 432x288 with 1 Axes>"
      ]
     },
     "metadata": {
      "needs_background": "light"
     },
     "output_type": "display_data"
    }
   ],
   "source": [
    "plt.scatter(X['Overall Qual Year Built'], y)"
   ]
  },
  {
   "cell_type": "code",
   "execution_count": 336,
   "metadata": {},
   "outputs": [
    {
     "data": {
      "text/plain": [
       "2092140"
      ]
     },
     "execution_count": 336,
     "metadata": {},
     "output_type": "execute_result"
    }
   ],
   "source": [
    "6*1970*177"
   ]
  },
  {
   "cell_type": "code",
   "execution_count": 337,
   "metadata": {},
   "outputs": [
    {
     "data": {
      "text/plain": [
       "1743450"
      ]
     },
     "execution_count": 337,
     "metadata": {},
     "output_type": "execute_result"
    }
   ],
   "source": [
    "5*1970*177"
   ]
  },
  {
   "cell_type": "code",
   "execution_count": 338,
   "metadata": {},
   "outputs": [
    {
     "data": {
      "text/plain": [
       "1762140"
      ]
     },
     "execution_count": 338,
     "metadata": {},
     "output_type": "execute_result"
    }
   ],
   "source": [
    "2092140 - 330000"
   ]
  },
  {
   "cell_type": "code",
   "execution_count": 339,
   "metadata": {},
   "outputs": [
    {
     "data": {
      "text/plain": [
       "18690"
      ]
     },
     "execution_count": 339,
     "metadata": {},
     "output_type": "execute_result"
    }
   ],
   "source": [
    "1762140 - 1743450 "
   ]
  },
  {
   "cell_type": "code",
   "execution_count": null,
   "metadata": {},
   "outputs": [],
   "source": []
  }
 ],
 "metadata": {
  "kernelspec": {
   "display_name": "Python 3",
   "language": "python",
   "name": "python3"
  },
  "language_info": {
   "codemirror_mode": {
    "name": "ipython",
    "version": 3
   },
   "file_extension": ".py",
   "mimetype": "text/x-python",
   "name": "python",
   "nbconvert_exporter": "python",
   "pygments_lexer": "ipython3",
   "version": "3.7.1"
  }
 },
 "nbformat": 4,
 "nbformat_minor": 2
}
