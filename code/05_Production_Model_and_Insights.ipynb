{
 "cells": [
  {
   "cell_type": "markdown",
   "metadata": {},
   "source": [
    "# Ames Housing Project"
   ]
  },
  {
   "cell_type": "markdown",
   "metadata": {},
   "source": [
    "\n",
    "## Project Challenge Statement\n",
    "\n",
    "#### Goal: Predict the price of homes at sale for the Aimes Iowa Housing dataset. \n",
    "\n",
    "Two files used to build the model. \n",
    "\n",
    "- train_data_cleanna.csv -- this data contains all of the training data with no missing values and outliers\n",
    "- test_data_cleanna.csv -- this data contains all of the testing data with no missing values and outlier\n"
   ]
  },
  {
   "cell_type": "markdown",
   "metadata": {},
   "source": [
    "## Table of Contents \n",
    "\n",
    "This Notebook is broken down into different sections for analysis purpose. The following links are connected to differenct section within the Notebook for simple navigation. \n",
    "\n",
    "### Contents:\n",
    "- [Ridge Tuning Model Features Analysis](#Ridge-Tuning-Model-Features-Analysis)\n",
    "- [Linear Regression With Specific Features](#Linear-Regression-With-Specific-Features)\n",
    "- [Recommendation](#Recommendation)\n",
    "\n",
    "### Describtion \n",
    "In the previous Model Tuning Notebook, 4 models were build to predict Sale Price. The conclusion we made was that the Ridge Model gives the best prediction of Sale Price with features engineering such as Polynomial Features and TransformedTargetRegressor. However, for the purpose of understanding the most important features, we will use Lasso model in this Notebook. In this notebook, we are going to try to understand what some of the variables that have the strongest affect in predicting Sale Price. Based on what we understand from the data, we will provide recommendation to home owners on how to effeciently improve Sale Price for their home. "
   ]
  },
  {
   "cell_type": "code",
   "execution_count": 61,
   "metadata": {},
   "outputs": [],
   "source": [
    "#Eliminate warnings \n",
    "import sys\n",
    "import warnings\n",
    "\n",
    "if not sys.warnoptions:\n",
    "    warnings.simplefilter(\"ignore\")"
   ]
  },
  {
   "cell_type": "code",
   "execution_count": 62,
   "metadata": {},
   "outputs": [],
   "source": [
    "# Library imports\n",
    "from sklearn.pipeline import Pipeline\n",
    "from sklearn.linear_model import LassoCV, RidgeCV, ElasticNetCV, LinearRegression\n",
    "from sklearn.preprocessing import StandardScaler, PolynomialFeatures, PowerTransformer\n",
    "from sklearn.model_selection import train_test_split, GridSearchCV\n",
    "from sklearn.feature_selection import SelectKBest, VarianceThreshold, f_regression, RFECV\n",
    "from sklearn.metrics import mean_squared_error\n",
    "from sklearn.compose import TransformedTargetRegressor\n",
    "import statsmodels.api as sm\n",
    "import numpy as np\n",
    "import pandas as pd\n",
    "import matplotlib.pyplot as plt\n",
    "from sklearn.metrics import r2_score\n",
    "\n",
    "\n",
    "np.random.seed(42)\n",
    "%matplotlib inline"
   ]
  },
  {
   "cell_type": "code",
   "execution_count": 63,
   "metadata": {},
   "outputs": [],
   "source": [
    "from functions import *"
   ]
  },
  {
   "cell_type": "code",
   "execution_count": 64,
   "metadata": {},
   "outputs": [],
   "source": [
    "#import Data \n",
    "clean_train_data = pd.read_csv('../datasets/train_data_clean.csv')\n",
    "clean_test_data = pd.read_csv('../datasets/test_data_clean.csv')\n",
    "\n",
    "base_train_data = pd.read_csv('../datasets/train_data_cleanna.csv')\n",
    "base_test_data = pd.read_csv('../datasets/test_data_cleanna.csv')"
   ]
  },
  {
   "cell_type": "code",
   "execution_count": 65,
   "metadata": {},
   "outputs": [],
   "source": [
    "#Extract common values in X_train and X_test values for X Variables \n",
    "p_cols = ['Lot Frontage', 'Lot Area', 'Overall Qual', 'Overall Cond',\n",
    "       'Year Built', 'Mas Vnr Area', 'BsmtFin SF 1', 'Total Bsmt SF',\n",
    "       '1st Flr SF', '2nd Flr SF', 'Bedroom AbvGr', 'Kitchen AbvGr',\n",
    "       'Garage Area', 'Wood Deck SF', 'Screen Porch', 'Neighborhood_Edwards',\n",
    "       'Neighborhood_Gilbert', 'Neighborhood_NAmes',\n",
    "       'Neighborhood_NWAmes', 'Neighborhood_NoRidge', 'Neighborhood_NridgHt',\n",
    "       'Neighborhood_OldTown', 'Neighborhood_SWISU', 'Neighborhood_Sawyer',\n",
    "       'Neighborhood_StoneBr', 'Exterior 1st_BrkFace',\n",
    "       'Garage Cond_Ex']"
   ]
  },
  {
   "cell_type": "code",
   "execution_count": 66,
   "metadata": {},
   "outputs": [],
   "source": [
    "#Categorical Values for getting Dummy\n",
    "X_dummy = ext_cat_features(base_train_data)"
   ]
  },
  {
   "cell_type": "markdown",
   "metadata": {},
   "source": [
    "## Lasso Tuning Model Features Analysis"
   ]
  },
  {
   "cell_type": "markdown",
   "metadata": {},
   "source": [
    "### Lasso Model for Features Extraction"
   ]
  },
  {
   "cell_type": "code",
   "execution_count": 67,
   "metadata": {},
   "outputs": [],
   "source": [
    "X = pd.get_dummies(base_train_data, columns = X_dummy).drop(columns = ['Unnamed: 0', 'Id','PID', 'SalePrice'])\n",
    "y = base_train_data['SalePrice']\n",
    "X_train, X_test, y_train, y_test = train_test_split(X, y, random_state = 42)"
   ]
  },
  {
   "cell_type": "code",
   "execution_count": 68,
   "metadata": {},
   "outputs": [],
   "source": [
    "#Lasso pipeline \n",
    "pipe = Pipeline([\n",
    "    ('poly', PolynomialFeatures(include_bias=False)),\n",
    "    ('var_thresh', VarianceThreshold(.05)),\n",
    "    ('ss', StandardScaler()),\n",
    "    ('tt', TransformedTargetRegressor(regressor = RidgeCV(), func=np.log, inverse_func=np.exp))\n",
    "])"
   ]
  },
  {
   "cell_type": "code",
   "execution_count": 69,
   "metadata": {
    "scrolled": false
   },
   "outputs": [
    {
     "name": "stdout",
     "output_type": "stream",
     "text": [
      "train score 0.9472064454826928\n",
      "test score 0.9017416969300243\n",
      "R2 score 0.8924766088885087\n"
     ]
    }
   ],
   "source": [
    "pipe.fit(X_train[p_cols], y_train)\n",
    "pipe_predict = pipe.predict(X_test[p_cols])\n",
    "print(\"train score\", pipe.score(X_train[p_cols], y_train))\n",
    "print('test score', pipe.score(X_test[p_cols], y_test))\n",
    "print(\"R2 score\", r2_score(pipe_predict, y_test));"
   ]
  },
  {
   "cell_type": "code",
   "execution_count": 70,
   "metadata": {},
   "outputs": [],
   "source": [
    "## Build a gride \n",
    "param_grid = {\n",
    "    'var_thresh__threshold': [0, .05, .1, .25],\n",
    "    'tt__regressor' : [RidgeCV(), LassoCV()]\n",
    "}"
   ]
  },
  {
   "cell_type": "code",
   "execution_count": 71,
   "metadata": {},
   "outputs": [],
   "source": [
    "gs = GridSearchCV(pipe, param_grid)"
   ]
  },
  {
   "cell_type": "code",
   "execution_count": 72,
   "metadata": {
    "scrolled": false
   },
   "outputs": [
    {
     "data": {
      "text/plain": [
       "GridSearchCV(cv='warn', error_score='raise-deprecating',\n",
       "       estimator=Pipeline(memory=None,\n",
       "     steps=[('poly', PolynomialFeatures(degree=2, include_bias=False, interaction_only=False)), ('var_thresh', VarianceThreshold(threshold=0.05)), ('ss', StandardScaler(copy=True, with_mean=True, with_std=True)), ('tt', TransformedTargetRegressor(check_inverse=True, func=<ufunc 'log'>,\n",
       "              inve..._mode=None, normalize=False, scoring=None, store_cv_values=False),\n",
       "              transformer=None))]),\n",
       "       fit_params=None, iid='warn', n_jobs=None,\n",
       "       param_grid={'var_thresh__threshold': [0, 0.05, 0.1, 0.25], 'tt__regressor': [RidgeCV(alphas=array([ 0.1,  1. , 10. ]), cv=None, fit_intercept=True,\n",
       "    gcv_mode=None, normalize=False, scoring=None, store_cv_values=False), LassoCV(alphas=None, copy_X=True, cv='warn', eps=0.001, fit_intercept=True,\n",
       "    max_iter=1000, n_alphas=100, n_jobs=None, normalize=False,\n",
       "    positive=False, precompute='auto', random_state=None,\n",
       "    selection='cyclic', tol=0.0001, verbose=False)]},\n",
       "       pre_dispatch='2*n_jobs', refit=True, return_train_score='warn',\n",
       "       scoring=None, verbose=0)"
      ]
     },
     "execution_count": 72,
     "metadata": {},
     "output_type": "execute_result"
    }
   ],
   "source": [
    "gs.fit(X_train[p_cols], y_train)"
   ]
  },
  {
   "cell_type": "code",
   "execution_count": 107,
   "metadata": {},
   "outputs": [
    {
     "data": {
      "text/plain": [
       "TransformedTargetRegressor(check_inverse=True, func=<ufunc 'log'>,\n",
       "              inverse_func=<ufunc 'exp'>,\n",
       "              regressor=LassoCV(alphas=None, copy_X=True, cv='warn', eps=0.001, fit_intercept=True,\n",
       "    max_iter=1000, n_alphas=100, n_jobs=None, normalize=False,\n",
       "    positive=False, precompute='auto', random_state=None,\n",
       "    selection='cyclic', tol=0.0001, verbose=False),\n",
       "              transformer=None)"
      ]
     },
     "execution_count": 107,
     "metadata": {},
     "output_type": "execute_result"
    }
   ],
   "source": [
    "gs.best_estimator_.named_steps['tt']"
   ]
  },
  {
   "cell_type": "code",
   "execution_count": 73,
   "metadata": {},
   "outputs": [
    {
     "data": {
      "text/plain": [
       "VarianceThreshold(threshold=0.25)"
      ]
     },
     "execution_count": 73,
     "metadata": {},
     "output_type": "execute_result"
    }
   ],
   "source": [
    "gs.best_estimator_.named_steps['var_thresh']"
   ]
  },
  {
   "cell_type": "code",
   "execution_count": 74,
   "metadata": {
    "scrolled": true
   },
   "outputs": [
    {
     "data": {
      "text/plain": [
       "array([[1.0700e+02, 1.2888e+04, 7.0000e+00, ..., 0.0000e+00, 0.0000e+00,\n",
       "        0.0000e+00],\n",
       "       [6.0000e+01, 7.2000e+03, 5.0000e+00, ..., 0.0000e+00, 0.0000e+00,\n",
       "        0.0000e+00],\n",
       "       [8.5000e+01, 1.0655e+04, 8.0000e+00, ..., 0.0000e+00, 0.0000e+00,\n",
       "        0.0000e+00],\n",
       "       ...,\n",
       "       [4.2000e+01, 3.9640e+03, 6.0000e+00, ..., 0.0000e+00, 0.0000e+00,\n",
       "        0.0000e+00],\n",
       "       [9.4000e+01, 9.2590e+03, 4.0000e+00, ..., 0.0000e+00, 0.0000e+00,\n",
       "        0.0000e+00],\n",
       "       [7.0000e+01, 9.1000e+03, 7.0000e+00, ..., 0.0000e+00, 0.0000e+00,\n",
       "        0.0000e+00]])"
      ]
     },
     "execution_count": 74,
     "metadata": {},
     "output_type": "execute_result"
    }
   ],
   "source": [
    "gs.best_estimator_.named_steps['poly'].transform(X_train[p_cols])"
   ]
  },
  {
   "cell_type": "markdown",
   "metadata": {},
   "source": [
    "### Extract the Coeficient and Variables names "
   ]
  },
  {
   "cell_type": "code",
   "execution_count": 75,
   "metadata": {},
   "outputs": [
    {
     "data": {
      "text/html": [
       "<div>\n",
       "<style scoped>\n",
       "    .dataframe tbody tr th:only-of-type {\n",
       "        vertical-align: middle;\n",
       "    }\n",
       "\n",
       "    .dataframe tbody tr th {\n",
       "        vertical-align: top;\n",
       "    }\n",
       "\n",
       "    .dataframe thead th {\n",
       "        text-align: right;\n",
       "    }\n",
       "</style>\n",
       "<table border=\"1\" class=\"dataframe\">\n",
       "  <thead>\n",
       "    <tr style=\"text-align: right;\">\n",
       "      <th></th>\n",
       "      <th>Lot Frontage</th>\n",
       "      <th>Lot Area</th>\n",
       "      <th>Overall Qual</th>\n",
       "      <th>Overall Cond</th>\n",
       "      <th>Year Built</th>\n",
       "      <th>Mas Vnr Area</th>\n",
       "      <th>BsmtFin SF 1</th>\n",
       "      <th>Total Bsmt SF</th>\n",
       "      <th>1st Flr SF</th>\n",
       "      <th>2nd Flr SF</th>\n",
       "      <th>...</th>\n",
       "      <th>Neighborhood_Sawyer^2</th>\n",
       "      <th>Neighborhood_Sawyer Neighborhood_StoneBr</th>\n",
       "      <th>Neighborhood_Sawyer Exterior 1st_BrkFace</th>\n",
       "      <th>Neighborhood_Sawyer Garage Cond_Ex</th>\n",
       "      <th>Neighborhood_StoneBr^2</th>\n",
       "      <th>Neighborhood_StoneBr Exterior 1st_BrkFace</th>\n",
       "      <th>Neighborhood_StoneBr Garage Cond_Ex</th>\n",
       "      <th>Exterior 1st_BrkFace^2</th>\n",
       "      <th>Exterior 1st_BrkFace Garage Cond_Ex</th>\n",
       "      <th>Garage Cond_Ex^2</th>\n",
       "    </tr>\n",
       "  </thead>\n",
       "  <tbody>\n",
       "    <tr>\n",
       "      <th>0</th>\n",
       "      <td>107.000000</td>\n",
       "      <td>12888.0</td>\n",
       "      <td>7.0</td>\n",
       "      <td>8.0</td>\n",
       "      <td>1937.0</td>\n",
       "      <td>0.0</td>\n",
       "      <td>288.0</td>\n",
       "      <td>1005.0</td>\n",
       "      <td>1262.0</td>\n",
       "      <td>1005.0</td>\n",
       "      <td>...</td>\n",
       "      <td>1.0</td>\n",
       "      <td>0.0</td>\n",
       "      <td>0.0</td>\n",
       "      <td>0.0</td>\n",
       "      <td>0.0</td>\n",
       "      <td>0.0</td>\n",
       "      <td>0.0</td>\n",
       "      <td>0.0</td>\n",
       "      <td>0.0</td>\n",
       "      <td>0.0</td>\n",
       "    </tr>\n",
       "    <tr>\n",
       "      <th>1</th>\n",
       "      <td>60.000000</td>\n",
       "      <td>7200.0</td>\n",
       "      <td>5.0</td>\n",
       "      <td>8.0</td>\n",
       "      <td>1950.0</td>\n",
       "      <td>0.0</td>\n",
       "      <td>398.0</td>\n",
       "      <td>864.0</td>\n",
       "      <td>864.0</td>\n",
       "      <td>0.0</td>\n",
       "      <td>...</td>\n",
       "      <td>0.0</td>\n",
       "      <td>0.0</td>\n",
       "      <td>0.0</td>\n",
       "      <td>0.0</td>\n",
       "      <td>0.0</td>\n",
       "      <td>0.0</td>\n",
       "      <td>0.0</td>\n",
       "      <td>0.0</td>\n",
       "      <td>0.0</td>\n",
       "      <td>0.0</td>\n",
       "    </tr>\n",
       "    <tr>\n",
       "      <th>2</th>\n",
       "      <td>85.000000</td>\n",
       "      <td>10655.0</td>\n",
       "      <td>8.0</td>\n",
       "      <td>5.0</td>\n",
       "      <td>2003.0</td>\n",
       "      <td>296.0</td>\n",
       "      <td>1124.0</td>\n",
       "      <td>3206.0</td>\n",
       "      <td>1629.0</td>\n",
       "      <td>0.0</td>\n",
       "      <td>...</td>\n",
       "      <td>0.0</td>\n",
       "      <td>0.0</td>\n",
       "      <td>0.0</td>\n",
       "      <td>0.0</td>\n",
       "      <td>0.0</td>\n",
       "      <td>0.0</td>\n",
       "      <td>0.0</td>\n",
       "      <td>0.0</td>\n",
       "      <td>0.0</td>\n",
       "      <td>0.0</td>\n",
       "    </tr>\n",
       "    <tr>\n",
       "      <th>3</th>\n",
       "      <td>68.878999</td>\n",
       "      <td>11929.0</td>\n",
       "      <td>8.0</td>\n",
       "      <td>7.0</td>\n",
       "      <td>1995.0</td>\n",
       "      <td>466.0</td>\n",
       "      <td>0.0</td>\n",
       "      <td>1242.0</td>\n",
       "      <td>1251.0</td>\n",
       "      <td>1250.0</td>\n",
       "      <td>...</td>\n",
       "      <td>0.0</td>\n",
       "      <td>0.0</td>\n",
       "      <td>0.0</td>\n",
       "      <td>0.0</td>\n",
       "      <td>0.0</td>\n",
       "      <td>0.0</td>\n",
       "      <td>0.0</td>\n",
       "      <td>0.0</td>\n",
       "      <td>0.0</td>\n",
       "      <td>0.0</td>\n",
       "    </tr>\n",
       "    <tr>\n",
       "      <th>4</th>\n",
       "      <td>60.000000</td>\n",
       "      <td>9900.0</td>\n",
       "      <td>6.0</td>\n",
       "      <td>7.0</td>\n",
       "      <td>1940.0</td>\n",
       "      <td>0.0</td>\n",
       "      <td>0.0</td>\n",
       "      <td>778.0</td>\n",
       "      <td>944.0</td>\n",
       "      <td>545.0</td>\n",
       "      <td>...</td>\n",
       "      <td>0.0</td>\n",
       "      <td>0.0</td>\n",
       "      <td>0.0</td>\n",
       "      <td>0.0</td>\n",
       "      <td>0.0</td>\n",
       "      <td>0.0</td>\n",
       "      <td>0.0</td>\n",
       "      <td>0.0</td>\n",
       "      <td>0.0</td>\n",
       "      <td>0.0</td>\n",
       "    </tr>\n",
       "    <tr>\n",
       "      <th>5</th>\n",
       "      <td>58.000000</td>\n",
       "      <td>6451.0</td>\n",
       "      <td>7.0</td>\n",
       "      <td>7.0</td>\n",
       "      <td>1900.0</td>\n",
       "      <td>0.0</td>\n",
       "      <td>208.0</td>\n",
       "      <td>712.0</td>\n",
       "      <td>848.0</td>\n",
       "      <td>580.0</td>\n",
       "      <td>...</td>\n",
       "      <td>0.0</td>\n",
       "      <td>0.0</td>\n",
       "      <td>0.0</td>\n",
       "      <td>0.0</td>\n",
       "      <td>0.0</td>\n",
       "      <td>0.0</td>\n",
       "      <td>0.0</td>\n",
       "      <td>0.0</td>\n",
       "      <td>0.0</td>\n",
       "      <td>0.0</td>\n",
       "    </tr>\n",
       "    <tr>\n",
       "      <th>6</th>\n",
       "      <td>68.878999</td>\n",
       "      <td>14860.0</td>\n",
       "      <td>8.0</td>\n",
       "      <td>5.0</td>\n",
       "      <td>2002.0</td>\n",
       "      <td>240.0</td>\n",
       "      <td>1538.0</td>\n",
       "      <td>1778.0</td>\n",
       "      <td>1786.0</td>\n",
       "      <td>0.0</td>\n",
       "      <td>...</td>\n",
       "      <td>0.0</td>\n",
       "      <td>0.0</td>\n",
       "      <td>0.0</td>\n",
       "      <td>0.0</td>\n",
       "      <td>0.0</td>\n",
       "      <td>0.0</td>\n",
       "      <td>0.0</td>\n",
       "      <td>0.0</td>\n",
       "      <td>0.0</td>\n",
       "      <td>0.0</td>\n",
       "    </tr>\n",
       "    <tr>\n",
       "      <th>7</th>\n",
       "      <td>70.000000</td>\n",
       "      <td>12886.0</td>\n",
       "      <td>5.0</td>\n",
       "      <td>6.0</td>\n",
       "      <td>1963.0</td>\n",
       "      <td>0.0</td>\n",
       "      <td>444.0</td>\n",
       "      <td>520.0</td>\n",
       "      <td>1464.0</td>\n",
       "      <td>0.0</td>\n",
       "      <td>...</td>\n",
       "      <td>1.0</td>\n",
       "      <td>0.0</td>\n",
       "      <td>0.0</td>\n",
       "      <td>0.0</td>\n",
       "      <td>0.0</td>\n",
       "      <td>0.0</td>\n",
       "      <td>0.0</td>\n",
       "      <td>0.0</td>\n",
       "      <td>0.0</td>\n",
       "      <td>0.0</td>\n",
       "    </tr>\n",
       "    <tr>\n",
       "      <th>8</th>\n",
       "      <td>75.000000</td>\n",
       "      <td>9060.0</td>\n",
       "      <td>6.0</td>\n",
       "      <td>5.0</td>\n",
       "      <td>1957.0</td>\n",
       "      <td>327.0</td>\n",
       "      <td>0.0</td>\n",
       "      <td>967.0</td>\n",
       "      <td>967.0</td>\n",
       "      <td>671.0</td>\n",
       "      <td>...</td>\n",
       "      <td>0.0</td>\n",
       "      <td>0.0</td>\n",
       "      <td>0.0</td>\n",
       "      <td>0.0</td>\n",
       "      <td>0.0</td>\n",
       "      <td>0.0</td>\n",
       "      <td>0.0</td>\n",
       "      <td>0.0</td>\n",
       "      <td>0.0</td>\n",
       "      <td>0.0</td>\n",
       "    </tr>\n",
       "    <tr>\n",
       "      <th>9</th>\n",
       "      <td>60.000000</td>\n",
       "      <td>10800.0</td>\n",
       "      <td>7.0</td>\n",
       "      <td>7.0</td>\n",
       "      <td>1914.0</td>\n",
       "      <td>0.0</td>\n",
       "      <td>390.0</td>\n",
       "      <td>880.0</td>\n",
       "      <td>880.0</td>\n",
       "      <td>888.0</td>\n",
       "      <td>...</td>\n",
       "      <td>0.0</td>\n",
       "      <td>0.0</td>\n",
       "      <td>0.0</td>\n",
       "      <td>0.0</td>\n",
       "      <td>0.0</td>\n",
       "      <td>0.0</td>\n",
       "      <td>0.0</td>\n",
       "      <td>0.0</td>\n",
       "      <td>0.0</td>\n",
       "      <td>0.0</td>\n",
       "    </tr>\n",
       "  </tbody>\n",
       "</table>\n",
       "<p>10 rows × 405 columns</p>\n",
       "</div>"
      ],
      "text/plain": [
       "   Lot Frontage  Lot Area  Overall Qual  Overall Cond  Year Built  \\\n",
       "0    107.000000   12888.0           7.0           8.0      1937.0   \n",
       "1     60.000000    7200.0           5.0           8.0      1950.0   \n",
       "2     85.000000   10655.0           8.0           5.0      2003.0   \n",
       "3     68.878999   11929.0           8.0           7.0      1995.0   \n",
       "4     60.000000    9900.0           6.0           7.0      1940.0   \n",
       "5     58.000000    6451.0           7.0           7.0      1900.0   \n",
       "6     68.878999   14860.0           8.0           5.0      2002.0   \n",
       "7     70.000000   12886.0           5.0           6.0      1963.0   \n",
       "8     75.000000    9060.0           6.0           5.0      1957.0   \n",
       "9     60.000000   10800.0           7.0           7.0      1914.0   \n",
       "\n",
       "   Mas Vnr Area  BsmtFin SF 1  Total Bsmt SF  1st Flr SF  2nd Flr SF  ...  \\\n",
       "0           0.0         288.0         1005.0      1262.0      1005.0  ...   \n",
       "1           0.0         398.0          864.0       864.0         0.0  ...   \n",
       "2         296.0        1124.0         3206.0      1629.0         0.0  ...   \n",
       "3         466.0           0.0         1242.0      1251.0      1250.0  ...   \n",
       "4           0.0           0.0          778.0       944.0       545.0  ...   \n",
       "5           0.0         208.0          712.0       848.0       580.0  ...   \n",
       "6         240.0        1538.0         1778.0      1786.0         0.0  ...   \n",
       "7           0.0         444.0          520.0      1464.0         0.0  ...   \n",
       "8         327.0           0.0          967.0       967.0       671.0  ...   \n",
       "9           0.0         390.0          880.0       880.0       888.0  ...   \n",
       "\n",
       "   Neighborhood_Sawyer^2  Neighborhood_Sawyer Neighborhood_StoneBr  \\\n",
       "0                    1.0                                       0.0   \n",
       "1                    0.0                                       0.0   \n",
       "2                    0.0                                       0.0   \n",
       "3                    0.0                                       0.0   \n",
       "4                    0.0                                       0.0   \n",
       "5                    0.0                                       0.0   \n",
       "6                    0.0                                       0.0   \n",
       "7                    1.0                                       0.0   \n",
       "8                    0.0                                       0.0   \n",
       "9                    0.0                                       0.0   \n",
       "\n",
       "   Neighborhood_Sawyer Exterior 1st_BrkFace  \\\n",
       "0                                       0.0   \n",
       "1                                       0.0   \n",
       "2                                       0.0   \n",
       "3                                       0.0   \n",
       "4                                       0.0   \n",
       "5                                       0.0   \n",
       "6                                       0.0   \n",
       "7                                       0.0   \n",
       "8                                       0.0   \n",
       "9                                       0.0   \n",
       "\n",
       "   Neighborhood_Sawyer Garage Cond_Ex  Neighborhood_StoneBr^2  \\\n",
       "0                                 0.0                     0.0   \n",
       "1                                 0.0                     0.0   \n",
       "2                                 0.0                     0.0   \n",
       "3                                 0.0                     0.0   \n",
       "4                                 0.0                     0.0   \n",
       "5                                 0.0                     0.0   \n",
       "6                                 0.0                     0.0   \n",
       "7                                 0.0                     0.0   \n",
       "8                                 0.0                     0.0   \n",
       "9                                 0.0                     0.0   \n",
       "\n",
       "   Neighborhood_StoneBr Exterior 1st_BrkFace  \\\n",
       "0                                        0.0   \n",
       "1                                        0.0   \n",
       "2                                        0.0   \n",
       "3                                        0.0   \n",
       "4                                        0.0   \n",
       "5                                        0.0   \n",
       "6                                        0.0   \n",
       "7                                        0.0   \n",
       "8                                        0.0   \n",
       "9                                        0.0   \n",
       "\n",
       "   Neighborhood_StoneBr Garage Cond_Ex  Exterior 1st_BrkFace^2  \\\n",
       "0                                  0.0                     0.0   \n",
       "1                                  0.0                     0.0   \n",
       "2                                  0.0                     0.0   \n",
       "3                                  0.0                     0.0   \n",
       "4                                  0.0                     0.0   \n",
       "5                                  0.0                     0.0   \n",
       "6                                  0.0                     0.0   \n",
       "7                                  0.0                     0.0   \n",
       "8                                  0.0                     0.0   \n",
       "9                                  0.0                     0.0   \n",
       "\n",
       "   Exterior 1st_BrkFace Garage Cond_Ex  Garage Cond_Ex^2  \n",
       "0                                  0.0               0.0  \n",
       "1                                  0.0               0.0  \n",
       "2                                  0.0               0.0  \n",
       "3                                  0.0               0.0  \n",
       "4                                  0.0               0.0  \n",
       "5                                  0.0               0.0  \n",
       "6                                  0.0               0.0  \n",
       "7                                  0.0               0.0  \n",
       "8                                  0.0               0.0  \n",
       "9                                  0.0               0.0  \n",
       "\n",
       "[10 rows x 405 columns]"
      ]
     },
     "execution_count": 75,
     "metadata": {},
     "output_type": "execute_result"
    }
   ],
   "source": [
    "#Extract the coeficient and variables names \n",
    "mask = gs.best_estimator_.named_steps['var_thresh'].get_support()\n",
    "coefs = gs.best_estimator_.named_steps['tt'].regressor_.coef_\n",
    "poly_data = gs.best_estimator_.named_steps['poly'].transform(X_train[p_cols])\n",
    "poly_cols = gs.best_estimator_.named_steps['poly'].get_feature_names(X_train[p_cols].columns)\n",
    "\n",
    "#Dataframe with column names \n",
    "poly_data = pd.DataFrame(poly_data, columns = poly_cols)\n",
    "poly_data.head(10)"
   ]
  },
  {
   "cell_type": "code",
   "execution_count": 76,
   "metadata": {},
   "outputs": [
    {
     "data": {
      "text/html": [
       "<div>\n",
       "<style scoped>\n",
       "    .dataframe tbody tr th:only-of-type {\n",
       "        vertical-align: middle;\n",
       "    }\n",
       "\n",
       "    .dataframe tbody tr th {\n",
       "        vertical-align: top;\n",
       "    }\n",
       "\n",
       "    .dataframe thead th {\n",
       "        text-align: right;\n",
       "    }\n",
       "</style>\n",
       "<table border=\"1\" class=\"dataframe\">\n",
       "  <thead>\n",
       "    <tr style=\"text-align: right;\">\n",
       "      <th></th>\n",
       "      <th>Coef</th>\n",
       "    </tr>\n",
       "    <tr>\n",
       "      <th>1</th>\n",
       "      <th></th>\n",
       "    </tr>\n",
       "  </thead>\n",
       "  <tbody>\n",
       "    <tr>\n",
       "      <th>Lot Frontage</th>\n",
       "      <td>0</td>\n",
       "    </tr>\n",
       "    <tr>\n",
       "      <th>Lot Area</th>\n",
       "      <td>0.0179793</td>\n",
       "    </tr>\n",
       "    <tr>\n",
       "      <th>Overall Qual</th>\n",
       "      <td>0.0883427</td>\n",
       "    </tr>\n",
       "    <tr>\n",
       "      <th>Overall Cond</th>\n",
       "      <td>0.0471635</td>\n",
       "    </tr>\n",
       "    <tr>\n",
       "      <th>Year Built</th>\n",
       "      <td>0.08103</td>\n",
       "    </tr>\n",
       "    <tr>\n",
       "      <th>Mas Vnr Area</th>\n",
       "      <td>0</td>\n",
       "    </tr>\n",
       "    <tr>\n",
       "      <th>BsmtFin SF 1</th>\n",
       "      <td>0.0849193</td>\n",
       "    </tr>\n",
       "    <tr>\n",
       "      <th>Total Bsmt SF</th>\n",
       "      <td>0.0904305</td>\n",
       "    </tr>\n",
       "    <tr>\n",
       "      <th>1st Flr SF</th>\n",
       "      <td>0.14173</td>\n",
       "    </tr>\n",
       "    <tr>\n",
       "      <th>2nd Flr SF</th>\n",
       "      <td>0.116462</td>\n",
       "    </tr>\n",
       "  </tbody>\n",
       "</table>\n",
       "</div>"
      ],
      "text/plain": [
       "                    Coef\n",
       "1                       \n",
       "Lot Frontage           0\n",
       "Lot Area       0.0179793\n",
       "Overall Qual   0.0883427\n",
       "Overall Cond   0.0471635\n",
       "Year Built       0.08103\n",
       "Mas Vnr Area           0\n",
       "BsmtFin SF 1   0.0849193\n",
       "Total Bsmt SF  0.0904305\n",
       "1st Flr SF       0.14173\n",
       "2nd Flr SF      0.116462"
      ]
     },
     "execution_count": 76,
     "metadata": {},
     "output_type": "execute_result"
    }
   ],
   "source": [
    "coef_df = pd.DataFrame([coefs, poly_cols]).T.set_index(1)\n",
    "coef_df.columns = ['Coef']\n",
    "coef_df.head(10)"
   ]
  },
  {
   "cell_type": "code",
   "execution_count": 77,
   "metadata": {},
   "outputs": [
    {
     "data": {
      "text/plain": [
       "1\n",
       "Total Bsmt SF Kitchen AbvGr           -0.0788684\n",
       "Total Bsmt SF Garage Area             -0.0477789\n",
       "BsmtFin SF 1 Neighborhood_NoRidge     -0.0431041\n",
       "Lot Frontage Exterior 1st_BrkFace     -0.0354583\n",
       "BsmtFin SF 1 Neighborhood_OldTown     -0.0287733\n",
       "Overall Qual Neighborhood_Sawyer      -0.0225443\n",
       "BsmtFin SF 1 Kitchen AbvGr             -0.022284\n",
       "Mas Vnr Area Neighborhood_Edwards      -0.021226\n",
       "Lot Frontage 1st Flr SF               -0.0133814\n",
       "Neighborhood_Edwards                  -0.0130678\n",
       "Mas Vnr Area Neighborhood_NWAmes      -0.0127395\n",
       "2nd Flr SF Neighborhood_StoneBr        -0.012598\n",
       "BsmtFin SF 1 Total Bsmt SF            -0.0123312\n",
       "Mas Vnr Area Neighborhood_NAmes       -0.0123267\n",
       "1st Flr SF Neighborhood_Sawyer        -0.0119232\n",
       "Mas Vnr Area Neighborhood_SWISU       -0.0113273\n",
       "Overall Qual Year Built               -0.0111915\n",
       "Total Bsmt SF Neighborhood_NridgHt    -0.0103356\n",
       "BsmtFin SF 1 Neighborhood_SWISU       -0.0103287\n",
       "1st Flr SF Neighborhood_Edwards      -0.00992513\n",
       "Name: Coef, dtype: object"
      ]
     },
     "execution_count": 77,
     "metadata": {},
     "output_type": "execute_result"
    }
   ],
   "source": [
    "coef_df[\"Coef\"].sort_values(ascending = True)[:20]"
   ]
  },
  {
   "cell_type": "code",
   "execution_count": 78,
   "metadata": {},
   "outputs": [
    {
     "data": {
      "text/plain": [
       "1\n",
       "1st Flr SF                             0.14173\n",
       "2nd Flr SF                            0.116462\n",
       "Total Bsmt SF                        0.0904305\n",
       "Overall Qual                         0.0883427\n",
       "BsmtFin SF 1                         0.0849193\n",
       "Year Built                             0.08103\n",
       "Overall Qual Neighborhood_NoRidge    0.0613173\n",
       "Overall Cond Neighborhood_Gilbert     0.050958\n",
       "Overall Cond                         0.0471635\n",
       "Lot Frontage Neighborhood_Gilbert    0.0468045\n",
       "Overall Cond Exterior 1st_BrkFace    0.0450946\n",
       "2nd Flr SF Garage Cond_Ex            0.0396035\n",
       "Kitchen AbvGr                        0.0335408\n",
       "Lot Area Neighborhood_Gilbert        0.0267725\n",
       "Total Bsmt SF Neighborhood_NWAmes    0.0264205\n",
       "Neighborhood_Sawyer                  0.0258809\n",
       "Lot Area                             0.0179793\n",
       "Lot Frontage Bedroom AbvGr           0.0178476\n",
       "Overall Cond Garage Area             0.0160742\n",
       "Lot Frontage Lot Area                0.0151477\n",
       "Name: Coef, dtype: object"
      ]
     },
     "execution_count": 78,
     "metadata": {},
     "output_type": "execute_result"
    }
   ],
   "source": [
    "coef_df[\"Coef\"].sort_values(ascending = False)[:20]"
   ]
  },
  {
   "cell_type": "code",
   "execution_count": 94,
   "metadata": {},
   "outputs": [],
   "source": [
    "upper_col = coef_df[\"Coef\"].sort_values(ascending = True)[:30].index\n",
    "lower_col = coef_df[\"Coef\"].sort_values(ascending = False)[:30].index"
   ]
  },
  {
   "cell_type": "code",
   "execution_count": 95,
   "metadata": {},
   "outputs": [
    {
     "data": {
      "text/plain": [
       "(1536, 60)"
      ]
     },
     "execution_count": 95,
     "metadata": {},
     "output_type": "execute_result"
    }
   ],
   "source": [
    "poly_data[upper_col.append(lower_col)].shape"
   ]
  },
  {
   "cell_type": "markdown",
   "metadata": {},
   "source": [
    "## Linear Regression With Specific Features\n",
    "\n",
    "In this section, we are going to use the significant features to build Linear Regression Model to check the significance of their P_value and understand which ones are the most important features. \n"
   ]
  },
  {
   "cell_type": "code",
   "execution_count": 96,
   "metadata": {
    "scrolled": true
   },
   "outputs": [
    {
     "data": {
      "text/plain": [
       "((1536, 60), (1536,))"
      ]
     },
     "execution_count": 96,
     "metadata": {},
     "output_type": "execute_result"
    }
   ],
   "source": [
    "poly_data[upper_col.append(lower_col)].shape, y_train.shape"
   ]
  },
  {
   "cell_type": "code",
   "execution_count": 97,
   "metadata": {
    "scrolled": false
   },
   "outputs": [],
   "source": [
    "#take log of Y\n",
    "# y_train = np.log(y_train)\n",
    "# y_train[:10]"
   ]
  },
  {
   "cell_type": "code",
   "execution_count": 98,
   "metadata": {},
   "outputs": [],
   "source": [
    "X = poly_data[upper_col.append(lower_col)].reset_index()\n",
    "y = y_train.reset_index().drop(columns = 'index')"
   ]
  },
  {
   "cell_type": "code",
   "execution_count": 99,
   "metadata": {},
   "outputs": [],
   "source": [
    "#standard scaling\n",
    "ss = StandardScaler()\n",
    "X_ss = ss.fit_transform(X)\n",
    "X_ss = pd.DataFrame(X_ss, columns =  X.columns)"
   ]
  },
  {
   "cell_type": "code",
   "execution_count": 100,
   "metadata": {},
   "outputs": [],
   "source": [
    "#Fit linear Regression model for X columns from above and y \n",
    "X = X_ss\n",
    "X = X = sm.add_constant(X)\n",
    "y = y"
   ]
  },
  {
   "cell_type": "code",
   "execution_count": 101,
   "metadata": {},
   "outputs": [],
   "source": [
    "#Fit linear model again to check selected columns \n",
    "OLS = sm.OLS(y, X)\n",
    "results = OLS.fit()"
   ]
  },
  {
   "cell_type": "code",
   "execution_count": 102,
   "metadata": {
    "scrolled": false
   },
   "outputs": [
    {
     "data": {
      "text/html": [
       "<table class=\"simpletable\">\n",
       "<caption>OLS Regression Results</caption>\n",
       "<tr>\n",
       "  <th>Dep. Variable:</th>        <td>SalePrice</td>    <th>  R-squared:         </th> <td>   0.914</td> \n",
       "</tr>\n",
       "<tr>\n",
       "  <th>Model:</th>                   <td>OLS</td>       <th>  Adj. R-squared:    </th> <td>   0.911</td> \n",
       "</tr>\n",
       "<tr>\n",
       "  <th>Method:</th>             <td>Least Squares</td>  <th>  F-statistic:       </th> <td>   262.4</td> \n",
       "</tr>\n",
       "<tr>\n",
       "  <th>Date:</th>             <td>Fri, 22 Mar 2019</td> <th>  Prob (F-statistic):</th>  <td>  0.00</td>  \n",
       "</tr>\n",
       "<tr>\n",
       "  <th>Time:</th>                 <td>10:22:24</td>     <th>  Log-Likelihood:    </th> <td> -17618.</td> \n",
       "</tr>\n",
       "<tr>\n",
       "  <th>No. Observations:</th>      <td>  1536</td>      <th>  AIC:               </th> <td>3.536e+04</td>\n",
       "</tr>\n",
       "<tr>\n",
       "  <th>Df Residuals:</th>          <td>  1475</td>      <th>  BIC:               </th> <td>3.568e+04</td>\n",
       "</tr>\n",
       "<tr>\n",
       "  <th>Df Model:</th>              <td>    60</td>      <th>                     </th>     <td> </td>    \n",
       "</tr>\n",
       "<tr>\n",
       "  <th>Covariance Type:</th>      <td>nonrobust</td>    <th>                     </th>     <td> </td>    \n",
       "</tr>\n",
       "</table>\n",
       "<table class=\"simpletable\">\n",
       "<tr>\n",
       "                   <td></td>                     <th>coef</th>     <th>std err</th>      <th>t</th>      <th>P>|t|</th>  <th>[0.025</th>    <th>0.975]</th>  \n",
       "</tr>\n",
       "<tr>\n",
       "  <th>const</th>                              <td> 1.815e+05</td> <td>  603.597</td> <td>  300.674</td> <td> 0.000</td> <td>  1.8e+05</td> <td> 1.83e+05</td>\n",
       "</tr>\n",
       "<tr>\n",
       "  <th>index</th>                              <td>  652.8027</td> <td>  617.290</td> <td>    1.058</td> <td> 0.290</td> <td> -558.057</td> <td> 1863.663</td>\n",
       "</tr>\n",
       "<tr>\n",
       "  <th>Total Bsmt SF Kitchen AbvGr</th>        <td>-1186.0877</td> <td> 2908.647</td> <td>   -0.408</td> <td> 0.683</td> <td>-6891.612</td> <td> 4519.437</td>\n",
       "</tr>\n",
       "<tr>\n",
       "  <th>Total Bsmt SF Garage Area</th>          <td> 9651.4704</td> <td> 2841.387</td> <td>    3.397</td> <td> 0.001</td> <td> 4077.881</td> <td> 1.52e+04</td>\n",
       "</tr>\n",
       "<tr>\n",
       "  <th>BsmtFin SF 1 Neighborhood_NoRidge</th>  <td>-3890.7588</td> <td> 1374.191</td> <td>   -2.831</td> <td> 0.005</td> <td>-6586.335</td> <td>-1195.182</td>\n",
       "</tr>\n",
       "<tr>\n",
       "  <th>Lot Frontage Exterior 1st_BrkFace</th>  <td>-1210.0021</td> <td> 2277.887</td> <td>   -0.531</td> <td> 0.595</td> <td>-5678.245</td> <td> 3258.241</td>\n",
       "</tr>\n",
       "<tr>\n",
       "  <th>BsmtFin SF 1 Neighborhood_OldTown</th>  <td>-2421.7416</td> <td>  643.783</td> <td>   -3.762</td> <td> 0.000</td> <td>-3684.569</td> <td>-1158.914</td>\n",
       "</tr>\n",
       "<tr>\n",
       "  <th>Overall Qual Neighborhood_Sawyer</th>   <td>-1.099e+04</td> <td> 5080.624</td> <td>   -2.162</td> <td> 0.031</td> <td> -2.1e+04</td> <td>-1019.958</td>\n",
       "</tr>\n",
       "<tr>\n",
       "  <th>BsmtFin SF 1 Kitchen AbvGr</th>         <td>-3537.4041</td> <td> 3655.337</td> <td>   -0.968</td> <td> 0.333</td> <td>-1.07e+04</td> <td> 3632.809</td>\n",
       "</tr>\n",
       "<tr>\n",
       "  <th>Mas Vnr Area Neighborhood_Edwards</th>  <td> -881.8714</td> <td>  729.526</td> <td>   -1.209</td> <td> 0.227</td> <td>-2312.891</td> <td>  549.148</td>\n",
       "</tr>\n",
       "<tr>\n",
       "  <th>Lot Frontage 1st Flr SF</th>            <td> 4169.6414</td> <td> 3832.652</td> <td>    1.088</td> <td> 0.277</td> <td>-3348.388</td> <td> 1.17e+04</td>\n",
       "</tr>\n",
       "<tr>\n",
       "  <th>Neighborhood_Edwards</th>               <td>   36.7242</td> <td> 1981.124</td> <td>    0.019</td> <td> 0.985</td> <td>-3849.397</td> <td> 3922.845</td>\n",
       "</tr>\n",
       "<tr>\n",
       "  <th>Mas Vnr Area Neighborhood_NWAmes</th>   <td> -608.9916</td> <td>  965.897</td> <td>   -0.630</td> <td> 0.528</td> <td>-2503.669</td> <td> 1285.686</td>\n",
       "</tr>\n",
       "<tr>\n",
       "  <th>2nd Flr SF Neighborhood_StoneBr</th>    <td> 6005.4785</td> <td>  857.964</td> <td>    7.000</td> <td> 0.000</td> <td> 4322.518</td> <td> 7688.438</td>\n",
       "</tr>\n",
       "<tr>\n",
       "  <th>BsmtFin SF 1 Total Bsmt SF</th>         <td> 1.341e+04</td> <td> 2629.076</td> <td>    5.101</td> <td> 0.000</td> <td> 8252.973</td> <td> 1.86e+04</td>\n",
       "</tr>\n",
       "<tr>\n",
       "  <th>Mas Vnr Area Neighborhood_NAmes</th>    <td> -959.8816</td> <td>  714.736</td> <td>   -1.343</td> <td> 0.179</td> <td>-2361.888</td> <td>  442.125</td>\n",
       "</tr>\n",
       "<tr>\n",
       "  <th>1st Flr SF Neighborhood_Sawyer</th>     <td>-5393.7365</td> <td> 2746.180</td> <td>   -1.964</td> <td> 0.050</td> <td>-1.08e+04</td> <td>   -6.901</td>\n",
       "</tr>\n",
       "<tr>\n",
       "  <th>Mas Vnr Area Neighborhood_SWISU</th>    <td>  477.2182</td> <td>  639.672</td> <td>    0.746</td> <td> 0.456</td> <td> -777.546</td> <td> 1731.982</td>\n",
       "</tr>\n",
       "<tr>\n",
       "  <th>Overall Qual Year Built</th>            <td>  4.86e+05</td> <td> 5.48e+04</td> <td>    8.872</td> <td> 0.000</td> <td> 3.79e+05</td> <td> 5.93e+05</td>\n",
       "</tr>\n",
       "<tr>\n",
       "  <th>Total Bsmt SF Neighborhood_NridgHt</th> <td> 8811.5019</td> <td> 3038.535</td> <td>    2.900</td> <td> 0.004</td> <td> 2851.192</td> <td> 1.48e+04</td>\n",
       "</tr>\n",
       "<tr>\n",
       "  <th>BsmtFin SF 1 Neighborhood_SWISU</th>    <td> -808.4402</td> <td>  857.295</td> <td>   -0.943</td> <td> 0.346</td> <td>-2490.088</td> <td>  873.208</td>\n",
       "</tr>\n",
       "<tr>\n",
       "  <th>1st Flr SF Neighborhood_Edwards</th>    <td> -909.1836</td> <td> 1994.423</td> <td>   -0.456</td> <td> 0.649</td> <td>-4821.392</td> <td> 3003.025</td>\n",
       "</tr>\n",
       "<tr>\n",
       "  <th>Lot Frontage Screen Porch</th>          <td> 4787.1755</td> <td>  631.320</td> <td>    7.583</td> <td> 0.000</td> <td> 3548.795</td> <td> 6025.557</td>\n",
       "</tr>\n",
       "<tr>\n",
       "  <th>Lot Frontage Neighborhood_SWISU</th>    <td>  865.6709</td> <td>  882.241</td> <td>    0.981</td> <td> 0.327</td> <td> -864.911</td> <td> 2596.253</td>\n",
       "</tr>\n",
       "<tr>\n",
       "  <th>1st Flr SF Neighborhood_NoRidge</th>    <td> 7064.0072</td> <td> 3010.457</td> <td>    2.346</td> <td> 0.019</td> <td> 1158.774</td> <td>  1.3e+04</td>\n",
       "</tr>\n",
       "<tr>\n",
       "  <th>Total Bsmt SF Neighborhood_StoneBr</th> <td> 1.401e+04</td> <td> 2726.529</td> <td>    5.139</td> <td> 0.000</td> <td> 8664.620</td> <td> 1.94e+04</td>\n",
       "</tr>\n",
       "<tr>\n",
       "  <th>1st Flr SF Exterior 1st_BrkFace</th>    <td>-1930.0235</td> <td> 2039.525</td> <td>   -0.946</td> <td> 0.344</td> <td>-5930.703</td> <td> 2070.656</td>\n",
       "</tr>\n",
       "<tr>\n",
       "  <th>Overall Qual Neighborhood_Gilbert</th>  <td>-8806.0304</td> <td> 5522.702</td> <td>   -1.595</td> <td> 0.111</td> <td>-1.96e+04</td> <td> 2027.155</td>\n",
       "</tr>\n",
       "<tr>\n",
       "  <th>1st Flr SF Neighborhood_NAmes</th>      <td>-5682.0578</td> <td> 2337.157</td> <td>   -2.431</td> <td> 0.015</td> <td>-1.03e+04</td> <td>-1097.552</td>\n",
       "</tr>\n",
       "<tr>\n",
       "  <th>Lot Area Overall Cond</th>              <td>  2.16e+04</td> <td> 4070.933</td> <td>    5.305</td> <td> 0.000</td> <td> 1.36e+04</td> <td> 2.96e+04</td>\n",
       "</tr>\n",
       "<tr>\n",
       "  <th>Year Built Neighborhood_Gilbert</th>    <td> 2.186e+04</td> <td>  1.3e+04</td> <td>    1.683</td> <td> 0.093</td> <td>-3614.623</td> <td> 4.73e+04</td>\n",
       "</tr>\n",
       "<tr>\n",
       "  <th>Lot Frontage Neighborhood_NWAmes</th>   <td>-1479.9404</td> <td> 4531.105</td> <td>   -0.327</td> <td> 0.744</td> <td>-1.04e+04</td> <td> 7408.155</td>\n",
       "</tr>\n",
       "<tr>\n",
       "  <th>1st Flr SF</th>                         <td> 1.962e+04</td> <td> 2678.386</td> <td>    7.325</td> <td> 0.000</td> <td> 1.44e+04</td> <td> 2.49e+04</td>\n",
       "</tr>\n",
       "<tr>\n",
       "  <th>2nd Flr SF</th>                         <td> 2.331e+04</td> <td> 1130.963</td> <td>   20.606</td> <td> 0.000</td> <td> 2.11e+04</td> <td> 2.55e+04</td>\n",
       "</tr>\n",
       "<tr>\n",
       "  <th>Total Bsmt SF</th>                      <td>  355.1659</td> <td> 5646.758</td> <td>    0.063</td> <td> 0.950</td> <td>-1.07e+04</td> <td> 1.14e+04</td>\n",
       "</tr>\n",
       "<tr>\n",
       "  <th>Overall Qual</th>                       <td>-4.473e+05</td> <td> 5.25e+04</td> <td>   -8.523</td> <td> 0.000</td> <td> -5.5e+05</td> <td>-3.44e+05</td>\n",
       "</tr>\n",
       "<tr>\n",
       "  <th>BsmtFin SF 1</th>                       <td> 2928.1018</td> <td> 4118.828</td> <td>    0.711</td> <td> 0.477</td> <td>-5151.283</td> <td>  1.1e+04</td>\n",
       "</tr>\n",
       "<tr>\n",
       "  <th>Year Built</th>                         <td>-1.779e+04</td> <td> 3677.949</td> <td>   -4.836</td> <td> 0.000</td> <td> -2.5e+04</td> <td>-1.06e+04</td>\n",
       "</tr>\n",
       "<tr>\n",
       "  <th>Overall Qual Neighborhood_NoRidge</th>  <td>-1278.4990</td> <td> 2622.170</td> <td>   -0.488</td> <td> 0.626</td> <td>-6422.078</td> <td> 3865.080</td>\n",
       "</tr>\n",
       "<tr>\n",
       "  <th>Overall Cond Neighborhood_Gilbert</th>  <td>-1.148e+04</td> <td> 9700.603</td> <td>   -1.184</td> <td> 0.237</td> <td>-3.05e+04</td> <td> 7546.546</td>\n",
       "</tr>\n",
       "<tr>\n",
       "  <th>Overall Cond</th>                       <td> 1734.1866</td> <td> 2003.769</td> <td>    0.865</td> <td> 0.387</td> <td>-2196.353</td> <td> 5664.726</td>\n",
       "</tr>\n",
       "<tr>\n",
       "  <th>Lot Frontage Neighborhood_Gilbert</th>  <td> -418.9886</td> <td> 2828.764</td> <td>   -0.148</td> <td> 0.882</td> <td>-5967.818</td> <td> 5129.841</td>\n",
       "</tr>\n",
       "<tr>\n",
       "  <th>Overall Cond Exterior 1st_BrkFace</th>  <td> 5726.3543</td> <td> 2264.118</td> <td>    2.529</td> <td> 0.012</td> <td> 1285.120</td> <td> 1.02e+04</td>\n",
       "</tr>\n",
       "<tr>\n",
       "  <th>2nd Flr SF Garage Cond_Ex</th>          <td> 2.238e-10</td> <td> 3.79e-11</td> <td>    5.902</td> <td> 0.000</td> <td> 1.49e-10</td> <td> 2.98e-10</td>\n",
       "</tr>\n",
       "<tr>\n",
       "  <th>Kitchen AbvGr</th>                      <td>  509.2577</td> <td> 5115.188</td> <td>    0.100</td> <td> 0.921</td> <td>-9524.559</td> <td> 1.05e+04</td>\n",
       "</tr>\n",
       "<tr>\n",
       "  <th>Lot Area Neighborhood_Gilbert</th>      <td>-1767.4599</td> <td> 1506.865</td> <td>   -1.173</td> <td> 0.241</td> <td>-4723.287</td> <td> 1188.368</td>\n",
       "</tr>\n",
       "<tr>\n",
       "  <th>Total Bsmt SF Neighborhood_NWAmes</th>  <td>-2615.2103</td> <td> 2345.097</td> <td>   -1.115</td> <td> 0.265</td> <td>-7215.291</td> <td> 1984.871</td>\n",
       "</tr>\n",
       "<tr>\n",
       "  <th>Neighborhood_Sawyer</th>                <td> 1.556e+04</td> <td> 5522.686</td> <td>    2.818</td> <td> 0.005</td> <td> 4728.845</td> <td> 2.64e+04</td>\n",
       "</tr>\n",
       "<tr>\n",
       "  <th>Lot Area</th>                           <td>-1.293e+05</td> <td> 6.25e+04</td> <td>   -2.069</td> <td> 0.039</td> <td>-2.52e+05</td> <td>-6742.076</td>\n",
       "</tr>\n",
       "<tr>\n",
       "  <th>Lot Frontage Bedroom AbvGr</th>         <td> 5082.8080</td> <td> 2548.153</td> <td>    1.995</td> <td> 0.046</td> <td>   84.418</td> <td> 1.01e+04</td>\n",
       "</tr>\n",
       "<tr>\n",
       "  <th>Overall Cond Garage Area</th>           <td> -175.9472</td> <td> 1679.624</td> <td>   -0.105</td> <td> 0.917</td> <td>-3470.653</td> <td> 3118.759</td>\n",
       "</tr>\n",
       "<tr>\n",
       "  <th>Lot Frontage Lot Area</th>              <td>-8380.2490</td> <td> 2943.319</td> <td>   -2.847</td> <td> 0.004</td> <td>-1.42e+04</td> <td>-2606.711</td>\n",
       "</tr>\n",
       "<tr>\n",
       "  <th>Neighborhood_NWAmes</th>                <td>  357.8051</td> <td> 5218.713</td> <td>    0.069</td> <td> 0.945</td> <td>-9879.084</td> <td> 1.06e+04</td>\n",
       "</tr>\n",
       "<tr>\n",
       "  <th>Overall Cond Total Bsmt SF</th>         <td>  933.1949</td> <td> 4045.804</td> <td>    0.231</td> <td> 0.818</td> <td>-7002.947</td> <td> 8869.336</td>\n",
       "</tr>\n",
       "<tr>\n",
       "  <th>Year Built Bedroom AbvGr</th>           <td>-6761.9383</td> <td> 1838.145</td> <td>   -3.679</td> <td> 0.000</td> <td>-1.04e+04</td> <td>-3156.282</td>\n",
       "</tr>\n",
       "<tr>\n",
       "  <th>Lot Area Year Built</th>                <td> 1.213e+05</td> <td> 6.07e+04</td> <td>    1.997</td> <td> 0.046</td> <td> 2137.509</td> <td>  2.4e+05</td>\n",
       "</tr>\n",
       "<tr>\n",
       "  <th>Bedroom AbvGr Neighborhood_NridgHt</th> <td> 6054.5926</td> <td> 2333.012</td> <td>    2.595</td> <td> 0.010</td> <td> 1478.218</td> <td> 1.06e+04</td>\n",
       "</tr>\n",
       "<tr>\n",
       "  <th>Lot Frontage Neighborhood_NAmes</th>    <td> 3516.1235</td> <td> 2334.532</td> <td>    1.506</td> <td> 0.132</td> <td>-1063.233</td> <td> 8095.480</td>\n",
       "</tr>\n",
       "<tr>\n",
       "  <th>Mas Vnr Area 2nd Flr SF</th>            <td> 1887.2608</td> <td>  842.292</td> <td>    2.241</td> <td> 0.025</td> <td>  235.042</td> <td> 3539.479</td>\n",
       "</tr>\n",
       "<tr>\n",
       "  <th>Overall Cond Neighborhood_StoneBr</th>  <td>-1.122e+04</td> <td> 2828.489</td> <td>   -3.967</td> <td> 0.000</td> <td>-1.68e+04</td> <td>-5673.001</td>\n",
       "</tr>\n",
       "<tr>\n",
       "  <th>Kitchen AbvGr^2</th>                    <td>-2859.2364</td> <td> 4958.000</td> <td>   -0.577</td> <td> 0.564</td> <td>-1.26e+04</td> <td> 6866.245</td>\n",
       "</tr>\n",
       "<tr>\n",
       "  <th>Overall Cond Neighborhood_NridgHt</th>  <td>-7839.1264</td> <td> 3825.839</td> <td>   -2.049</td> <td> 0.041</td> <td>-1.53e+04</td> <td> -334.462</td>\n",
       "</tr>\n",
       "</table>\n",
       "<table class=\"simpletable\">\n",
       "<tr>\n",
       "  <th>Omnibus:</th>       <td>363.778</td> <th>  Durbin-Watson:     </th> <td>   1.962</td>\n",
       "</tr>\n",
       "<tr>\n",
       "  <th>Prob(Omnibus):</th> <td> 0.000</td>  <th>  Jarque-Bera (JB):  </th> <td>4736.599</td>\n",
       "</tr>\n",
       "<tr>\n",
       "  <th>Skew:</th>          <td> 0.724</td>  <th>  Prob(JB):          </th> <td>    0.00</td>\n",
       "</tr>\n",
       "<tr>\n",
       "  <th>Kurtosis:</th>      <td>11.480</td>  <th>  Cond. No.          </th> <td>1.70e+16</td>\n",
       "</tr>\n",
       "</table><br/><br/>Warnings:<br/>[1] Standard Errors assume that the covariance matrix of the errors is correctly specified.<br/>[2] The smallest eigenvalue is 4.9e-29. This might indicate that there are<br/>strong multicollinearity problems or that the design matrix is singular."
      ],
      "text/plain": [
       "<class 'statsmodels.iolib.summary.Summary'>\n",
       "\"\"\"\n",
       "                            OLS Regression Results                            \n",
       "==============================================================================\n",
       "Dep. Variable:              SalePrice   R-squared:                       0.914\n",
       "Model:                            OLS   Adj. R-squared:                  0.911\n",
       "Method:                 Least Squares   F-statistic:                     262.4\n",
       "Date:                Fri, 22 Mar 2019   Prob (F-statistic):               0.00\n",
       "Time:                        10:22:24   Log-Likelihood:                -17618.\n",
       "No. Observations:                1536   AIC:                         3.536e+04\n",
       "Df Residuals:                    1475   BIC:                         3.568e+04\n",
       "Df Model:                          60                                         \n",
       "Covariance Type:            nonrobust                                         \n",
       "======================================================================================================\n",
       "                                         coef    std err          t      P>|t|      [0.025      0.975]\n",
       "------------------------------------------------------------------------------------------------------\n",
       "const                               1.815e+05    603.597    300.674      0.000     1.8e+05    1.83e+05\n",
       "index                                652.8027    617.290      1.058      0.290    -558.057    1863.663\n",
       "Total Bsmt SF Kitchen AbvGr        -1186.0877   2908.647     -0.408      0.683   -6891.612    4519.437\n",
       "Total Bsmt SF Garage Area           9651.4704   2841.387      3.397      0.001    4077.881    1.52e+04\n",
       "BsmtFin SF 1 Neighborhood_NoRidge  -3890.7588   1374.191     -2.831      0.005   -6586.335   -1195.182\n",
       "Lot Frontage Exterior 1st_BrkFace  -1210.0021   2277.887     -0.531      0.595   -5678.245    3258.241\n",
       "BsmtFin SF 1 Neighborhood_OldTown  -2421.7416    643.783     -3.762      0.000   -3684.569   -1158.914\n",
       "Overall Qual Neighborhood_Sawyer   -1.099e+04   5080.624     -2.162      0.031    -2.1e+04   -1019.958\n",
       "BsmtFin SF 1 Kitchen AbvGr         -3537.4041   3655.337     -0.968      0.333   -1.07e+04    3632.809\n",
       "Mas Vnr Area Neighborhood_Edwards   -881.8714    729.526     -1.209      0.227   -2312.891     549.148\n",
       "Lot Frontage 1st Flr SF             4169.6414   3832.652      1.088      0.277   -3348.388    1.17e+04\n",
       "Neighborhood_Edwards                  36.7242   1981.124      0.019      0.985   -3849.397    3922.845\n",
       "Mas Vnr Area Neighborhood_NWAmes    -608.9916    965.897     -0.630      0.528   -2503.669    1285.686\n",
       "2nd Flr SF Neighborhood_StoneBr     6005.4785    857.964      7.000      0.000    4322.518    7688.438\n",
       "BsmtFin SF 1 Total Bsmt SF          1.341e+04   2629.076      5.101      0.000    8252.973    1.86e+04\n",
       "Mas Vnr Area Neighborhood_NAmes     -959.8816    714.736     -1.343      0.179   -2361.888     442.125\n",
       "1st Flr SF Neighborhood_Sawyer     -5393.7365   2746.180     -1.964      0.050   -1.08e+04      -6.901\n",
       "Mas Vnr Area Neighborhood_SWISU      477.2182    639.672      0.746      0.456    -777.546    1731.982\n",
       "Overall Qual Year Built              4.86e+05   5.48e+04      8.872      0.000    3.79e+05    5.93e+05\n",
       "Total Bsmt SF Neighborhood_NridgHt  8811.5019   3038.535      2.900      0.004    2851.192    1.48e+04\n",
       "BsmtFin SF 1 Neighborhood_SWISU     -808.4402    857.295     -0.943      0.346   -2490.088     873.208\n",
       "1st Flr SF Neighborhood_Edwards     -909.1836   1994.423     -0.456      0.649   -4821.392    3003.025\n",
       "Lot Frontage Screen Porch           4787.1755    631.320      7.583      0.000    3548.795    6025.557\n",
       "Lot Frontage Neighborhood_SWISU      865.6709    882.241      0.981      0.327    -864.911    2596.253\n",
       "1st Flr SF Neighborhood_NoRidge     7064.0072   3010.457      2.346      0.019    1158.774     1.3e+04\n",
       "Total Bsmt SF Neighborhood_StoneBr  1.401e+04   2726.529      5.139      0.000    8664.620    1.94e+04\n",
       "1st Flr SF Exterior 1st_BrkFace    -1930.0235   2039.525     -0.946      0.344   -5930.703    2070.656\n",
       "Overall Qual Neighborhood_Gilbert  -8806.0304   5522.702     -1.595      0.111   -1.96e+04    2027.155\n",
       "1st Flr SF Neighborhood_NAmes      -5682.0578   2337.157     -2.431      0.015   -1.03e+04   -1097.552\n",
       "Lot Area Overall Cond                2.16e+04   4070.933      5.305      0.000    1.36e+04    2.96e+04\n",
       "Year Built Neighborhood_Gilbert     2.186e+04    1.3e+04      1.683      0.093   -3614.623    4.73e+04\n",
       "Lot Frontage Neighborhood_NWAmes   -1479.9404   4531.105     -0.327      0.744   -1.04e+04    7408.155\n",
       "1st Flr SF                          1.962e+04   2678.386      7.325      0.000    1.44e+04    2.49e+04\n",
       "2nd Flr SF                          2.331e+04   1130.963     20.606      0.000    2.11e+04    2.55e+04\n",
       "Total Bsmt SF                        355.1659   5646.758      0.063      0.950   -1.07e+04    1.14e+04\n",
       "Overall Qual                       -4.473e+05   5.25e+04     -8.523      0.000    -5.5e+05   -3.44e+05\n",
       "BsmtFin SF 1                        2928.1018   4118.828      0.711      0.477   -5151.283     1.1e+04\n",
       "Year Built                         -1.779e+04   3677.949     -4.836      0.000    -2.5e+04   -1.06e+04\n",
       "Overall Qual Neighborhood_NoRidge  -1278.4990   2622.170     -0.488      0.626   -6422.078    3865.080\n",
       "Overall Cond Neighborhood_Gilbert  -1.148e+04   9700.603     -1.184      0.237   -3.05e+04    7546.546\n",
       "Overall Cond                        1734.1866   2003.769      0.865      0.387   -2196.353    5664.726\n",
       "Lot Frontage Neighborhood_Gilbert   -418.9886   2828.764     -0.148      0.882   -5967.818    5129.841\n",
       "Overall Cond Exterior 1st_BrkFace   5726.3543   2264.118      2.529      0.012    1285.120    1.02e+04\n",
       "2nd Flr SF Garage Cond_Ex           2.238e-10   3.79e-11      5.902      0.000    1.49e-10    2.98e-10\n",
       "Kitchen AbvGr                        509.2577   5115.188      0.100      0.921   -9524.559    1.05e+04\n",
       "Lot Area Neighborhood_Gilbert      -1767.4599   1506.865     -1.173      0.241   -4723.287    1188.368\n",
       "Total Bsmt SF Neighborhood_NWAmes  -2615.2103   2345.097     -1.115      0.265   -7215.291    1984.871\n",
       "Neighborhood_Sawyer                 1.556e+04   5522.686      2.818      0.005    4728.845    2.64e+04\n",
       "Lot Area                           -1.293e+05   6.25e+04     -2.069      0.039   -2.52e+05   -6742.076\n",
       "Lot Frontage Bedroom AbvGr          5082.8080   2548.153      1.995      0.046      84.418    1.01e+04\n",
       "Overall Cond Garage Area            -175.9472   1679.624     -0.105      0.917   -3470.653    3118.759\n",
       "Lot Frontage Lot Area              -8380.2490   2943.319     -2.847      0.004   -1.42e+04   -2606.711\n",
       "Neighborhood_NWAmes                  357.8051   5218.713      0.069      0.945   -9879.084    1.06e+04\n",
       "Overall Cond Total Bsmt SF           933.1949   4045.804      0.231      0.818   -7002.947    8869.336\n",
       "Year Built Bedroom AbvGr           -6761.9383   1838.145     -3.679      0.000   -1.04e+04   -3156.282\n",
       "Lot Area Year Built                 1.213e+05   6.07e+04      1.997      0.046    2137.509     2.4e+05\n",
       "Bedroom AbvGr Neighborhood_NridgHt  6054.5926   2333.012      2.595      0.010    1478.218    1.06e+04\n",
       "Lot Frontage Neighborhood_NAmes     3516.1235   2334.532      1.506      0.132   -1063.233    8095.480\n",
       "Mas Vnr Area 2nd Flr SF             1887.2608    842.292      2.241      0.025     235.042    3539.479\n",
       "Overall Cond Neighborhood_StoneBr  -1.122e+04   2828.489     -3.967      0.000   -1.68e+04   -5673.001\n",
       "Kitchen AbvGr^2                    -2859.2364   4958.000     -0.577      0.564   -1.26e+04    6866.245\n",
       "Overall Cond Neighborhood_NridgHt  -7839.1264   3825.839     -2.049      0.041   -1.53e+04    -334.462\n",
       "==============================================================================\n",
       "Omnibus:                      363.778   Durbin-Watson:                   1.962\n",
       "Prob(Omnibus):                  0.000   Jarque-Bera (JB):             4736.599\n",
       "Skew:                           0.724   Prob(JB):                         0.00\n",
       "Kurtosis:                      11.480   Cond. No.                     1.70e+16\n",
       "==============================================================================\n",
       "\n",
       "Warnings:\n",
       "[1] Standard Errors assume that the covariance matrix of the errors is correctly specified.\n",
       "[2] The smallest eigenvalue is 4.9e-29. This might indicate that there are\n",
       "strong multicollinearity problems or that the design matrix is singular.\n",
       "\"\"\""
      ]
     },
     "execution_count": 102,
     "metadata": {},
     "output_type": "execute_result"
    }
   ],
   "source": [
    "results.summary()"
   ]
  },
  {
   "cell_type": "code",
   "execution_count": 105,
   "metadata": {
    "scrolled": false
   },
   "outputs": [
    {
     "data": {
      "text/plain": [
       "const                                 0.000000e+00\n",
       "2nd Flr SF                            4.062677e-83\n",
       "Overall Qual Year Built               2.026620e-18\n",
       "Overall Qual                          3.796766e-17\n",
       "Lot Frontage Screen Porch             5.951048e-14\n",
       "1st Flr SF                            3.913193e-13\n",
       "2nd Flr SF Neighborhood_StoneBr       3.882170e-12\n",
       "2nd Flr SF Garage Cond_Ex             4.456751e-09\n",
       "Lot Area Overall Cond                 1.298007e-07\n",
       "Total Bsmt SF Neighborhood_StoneBr    3.123931e-07\n",
       "BsmtFin SF 1 Total Bsmt SF            3.823339e-07\n",
       "Year Built                            1.460503e-06\n",
       "Overall Cond Neighborhood_StoneBr     7.620050e-05\n",
       "BsmtFin SF 1 Neighborhood_OldTown     1.753418e-04\n",
       "Year Built Bedroom AbvGr              2.428748e-04\n",
       "Total Bsmt SF Garage Area             7.000555e-04\n",
       "Total Bsmt SF Neighborhood_NridgHt    3.787882e-03\n",
       "Lot Frontage Lot Area                 4.471519e-03\n",
       "BsmtFin SF 1 Neighborhood_NoRidge     4.698714e-03\n",
       "Neighborhood_Sawyer                   4.899412e-03\n",
       "Bedroom AbvGr Neighborhood_NridgHt    9.547835e-03\n",
       "Overall Cond Exterior 1st_BrkFace     1.153652e-02\n",
       "1st Flr SF Neighborhood_NAmes         1.516805e-02\n",
       "1st Flr SF Neighborhood_NoRidge       1.908291e-02\n",
       "Mas Vnr Area 2nd Flr SF               2.519878e-02\n",
       "Overall Qual Neighborhood_Sawyer      3.075322e-02\n",
       "Lot Area                              3.867584e-02\n",
       "Overall Cond Neighborhood_NridgHt     4.063917e-02\n",
       "Lot Area Year Built                   4.603372e-02\n",
       "Lot Frontage Bedroom AbvGr            4.625907e-02\n",
       "1st Flr SF Neighborhood_Sawyer        4.970758e-02\n",
       "dtype: float64"
      ]
     },
     "execution_count": 105,
     "metadata": {},
     "output_type": "execute_result"
    }
   ],
   "source": [
    "#significant variables \n",
    "results.pvalues[results.pvalues < 0.05].sort_values(ascending = True)"
   ]
  },
  {
   "cell_type": "markdown",
   "metadata": {},
   "source": [
    "## Recommendation\n",
    "\n",
    "In this section, the following questions will be answered for the purpose of providing useful insght to improve sale price:\n",
    "\n",
    "- Which features appear to add the most value to a home?\n",
    "    - overall condition \n",
    "    - second floor SF\n",
    "    - lot area\n",
    "    - first floor SF\n",
    "- Which features hurt the value of a home the most?\n",
    "    - year build, the older the house, the cheaper the house \n",
    "- What are things that homeowners could improve in their homes to increase the value?\n",
    "    - people really value 2nd floor, the larger the 2nd floor, the higher the sale price \n",
    "    - specially true in Stonebar\n",
    "    - imporving in overall quality will also increase the house value \n",
    "    - lot area is also significant, positive relationship with saleprice \n",
    "    - expand total basement and garage area will boost house values \n",
    "- What neighborhoods seem like they might be a good investment?\n",
    "    - stonebr with second floor, significant positive correlation with Sale Price \n",
    "    - neightbourhood sawyer is positively correlated with saleprice \n",
    "    - Nridghrt neighourhood \n",
    "- Do you feel that this model will generalize to other cities? How could you revise your model to make it more universal OR what date would you need from another city to make a comparable model?"
   ]
  },
  {
   "cell_type": "markdown",
   "metadata": {},
   "source": [
    "According to our analysis, there are few variables have significantly high positive correlation with the Sale Price of ones house. First is the overall condition of the house. The p-value of overall condition variable is less than 0.05 which means we will reject the null hypothesis of saying there is no relationship between overall condition and sale price. As the overall condition of the house increases, the sale price of the house increase as well. Meanwhile, Lot area, Lot Frontage Lot Area, square foot first and second floor of the house also have a high correlation with the Sale Price. In other word, the larger the space of the house is, the higher the sale price will be. The third feature that contributes to increase in sale price is overall quality with year built. If a house is built recently, and the quality of the house is good, the sale price of the house will be higher. \n",
    "\n",
    "Within the features that have low p-values, few variables such as 2nd Flr SF Neighborhood_StoneBr, Total Bsmt SF Neighborhood_NridgHt , Overall Qual Neighborhood_Sawyer, and Total Bsmt SF Neighborhood_NWAmes point us to the direction of understaning the importance of neighbourhoods. Especially variable Neighborhood_Sawyer, which has a possitive correlation with Sale Price, means that if your house is in this neighourhood, the Sale Price of the house will go up. \n",
    "\n",
    "As for the features that decreases the Sale Price of the house, One interaction term caught my eye: Lot Frontage Bedroom AbvGr, which is an interaction term between Lot Frontage and number of bedrooms above ground. This interaction term is significant and has a negative relationship with the Sale Price. However, we can't draw any conclusion about lot frontage and bedroom only base on this one variable. This negative relationship between the interaction term and saleprice could be a compensation to adjust the real relationship between variables due the fact that both Lot Frontage and Bedroom above ground have positive correlation with saleprice. \n",
    "\n",
    "Based on the analysis above, we will provide the following business recommendation for those who is interested in boosting their house sale price. First, understand that some neighbourhoods are more simply more expensive then others. If one is interested in boosting housing value in a particular neighbourhood, we can perform furthur analysis by extracting information based on the particular neighbourhood. However, for everyone who already has a house and looking forward to improve the price regardless of location, there are things you can do. If your house has a second floor, this feature will add a lot of value in boosting saleprice. If you do not have a second floor, there are ways for you to improve values as well. After all, the quality and condition of the house is extremely important for buyers. Therefore, before selling the house, fixing up the house such as painting the wall, fixing up the pipe, and so on, will add value to the sale price.  "
   ]
  },
  {
   "cell_type": "code",
   "execution_count": 115,
   "metadata": {},
   "outputs": [
    {
     "data": {
      "text/plain": [
       "Text(0.5, 1.0, 'Overall Qual vs Sale Price')"
      ]
     },
     "execution_count": 115,
     "metadata": {},
     "output_type": "execute_result"
    },
    {
     "data": {
      "image/png": "[encoded data removed]",
      "text/plain": [
       "<Figure size 1152x576 with 1 Axes>"
      ]
     },
     "metadata": {
      "needs_background": "light"
     },
     "output_type": "display_data"
    }
   ],
   "source": [
    "plt.figure (figsize = (16,8))\n",
    "plt.scatter(X['Overall Qual'], y, color = 'red')\n",
    "plt.xlabel('Overall Qual')\n",
    "plt.ylabel(\"Sale Price \")\n",
    "plt.title(\"Overall Qual vs Sale Price\")"
   ]
  },
  {
   "cell_type": "code",
   "execution_count": 113,
   "metadata": {},
   "outputs": [
    {
     "data": {
      "text/plain": [
       "Text(0.5, 1.0, 'Year Built vs Sale Price')"
      ]
     },
     "execution_count": 113,
     "metadata": {},
     "output_type": "execute_result"
    },
    {
     "data": {
      "image/png": "[encoded data removed]",
      "text/plain": [
       "<Figure size 1152x576 with 1 Axes>"
      ]
     },
     "metadata": {
      "needs_background": "light"
     },
     "output_type": "display_data"
    }
   ],
   "source": [
    "plt.figure (figsize = (16,8))\n",
    "plt.scatter(X['Year Built'], y, color = 'orange')\n",
    "plt.xlabel('Year Built')\n",
    "plt.ylabel(\"Sale Price \")\n",
    "plt.title(\"Year Built vs Sale Price\")"
   ]
  },
  {
   "cell_type": "code",
   "execution_count": 116,
   "metadata": {},
   "outputs": [
    {
     "data": {
      "text/plain": [
       "Text(0.5, 1.0, 'Overall Qual Year Built vs Sale Price')"
      ]
     },
     "execution_count": 116,
     "metadata": {},
     "output_type": "execute_result"
    },
    {
     "data": {
      "image/png": "[encoded data removed]",
      "text/plain": [
       "<Figure size 1152x576 with 1 Axes>"
      ]
     },
     "metadata": {
      "needs_background": "light"
     },
     "output_type": "display_data"
    }
   ],
   "source": [
    "plt.figure (figsize = (16,8))\n",
    "plt.scatter(X['Overall Qual Year Built'], y, color = 'orange')\n",
    "plt.xlabel('Overall Qual Year Built')\n",
    "plt.ylabel(\"Sale Price \")\n",
    "plt.title(\"Overall Qual Year Built vs Sale Price\")"
   ]
  },
  {
   "cell_type": "code",
   "execution_count": null,
   "metadata": {},
   "outputs": [],
   "source": []
  }
 ],
 "metadata": {
  "kernelspec": {
   "display_name": "Python 3",
   "language": "python",
   "name": "python3"
  },
  "language_info": {
   "codemirror_mode": {
    "name": "ipython",
    "version": 3
   },
   "file_extension": ".py",
   "mimetype": "text/x-python",
   "name": "python",
   "nbconvert_exporter": "python",
   "pygments_lexer": "ipython3",
   "version": "3.7.1"
  }
 },
 "nbformat": 4,
 "nbformat_minor": 2
}
